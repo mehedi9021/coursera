{
 "cells": [
  {
   "cell_type": "markdown",
   "metadata": {},
   "source": [
    "1.What is the primary function of a firewall?"
   ]
  },
  {
   "cell_type": "markdown",
   "metadata": {},
   "source": [
    "Filter traffic between networks."
   ]
  },
  {
   "cell_type": "markdown",
   "metadata": {},
   "source": [
    "2.How many unique encryption keys are required for 2 people to exchange a series of messages using symmetric key cryptography?"
   ]
  },
  {
   "cell_type": "markdown",
   "metadata": {},
   "source": [
    "1"
   ]
  },
  {
   "cell_type": "markdown",
   "metadata": {},
   "source": [
    "3.What are the three (3) types of modern encryption?"
   ]
  },
  {
   "cell_type": "markdown",
   "metadata": {},
   "source": [
    "Asymmetric<br>Hash<br>Symmetric"
   ]
  },
  {
   "cell_type": "markdown",
   "metadata": {},
   "source": [
    "4.What is Locard's exchange principle?"
   ]
  },
  {
   "cell_type": "markdown",
   "metadata": {},
   "source": [
    "The perpetrator of a crime will bring something into the crime scene and leave with something from it, and that both can be used as forensic evidence."
   ]
  },
  {
   "cell_type": "markdown",
   "metadata": {},
   "source": [
    "5.Which two (2) are types of firewall?"
   ]
  },
  {
   "cell_type": "markdown",
   "metadata": {},
   "source": [
    "Application-level<br>Packet-filtering"
   ]
  },
  {
   "cell_type": "markdown",
   "metadata": {},
   "source": [
    "6.Which type of data does a packet-filtering firewall inspect when it decides whether to forward or drop a packet?"
   ]
  },
  {
   "cell_type": "markdown",
   "metadata": {},
   "source": [
    "-"
   ]
  },
  {
   "cell_type": "markdown",
   "metadata": {},
   "source": [
    "7.Which three (3) of the following are limitations of Application gateways?"
   ]
  },
  {
   "cell_type": "markdown",
   "metadata": {},
   "source": [
    "Client software must be “smart” and know to contact the gateway<br>Application gateways are susceptible to IP spoofing<br>Each application to be managed needs its own gateway"
   ]
  },
  {
   "cell_type": "markdown",
   "metadata": {},
   "source": [
    "8.Which type of firewall inspects XML packet payload for things like executable code, a target IP address that make sense and a known source IP address?"
   ]
  },
  {
   "cell_type": "markdown",
   "metadata": {},
   "source": [
    "-"
   ]
  },
  {
   "cell_type": "markdown",
   "metadata": {},
   "source": [
    "9.Which statement is True about Stateful firewalls?"
   ]
  },
  {
   "cell_type": "markdown",
   "metadata": {},
   "source": [
    "They have state tables that allow them to compare current packets with previous packets."
   ]
  },
  {
   "cell_type": "markdown",
   "metadata": {},
   "source": [
    "10.True or False: Most Antivirus/Antimalware software works by comparing a hash of every file encountered on your system against a table of hashs of known virus and malware previously made by the antivirus/antimalware vendor."
   ]
  },
  {
   "cell_type": "markdown",
   "metadata": {},
   "source": [
    "True"
   ]
  },
  {
   "cell_type": "markdown",
   "metadata": {},
   "source": [
    "11.Which type of cryptographic attack is characterized by comparing a captured hashed password against a table of many millions of previously hashed words or strings?"
   ]
  },
  {
   "cell_type": "markdown",
   "metadata": {},
   "source": [
    "Rainbow tables"
   ]
  },
  {
   "cell_type": "markdown",
   "metadata": {},
   "source": [
    "12.What are two (2) drawbacks to using symmetric key encryption?"
   ]
  },
  {
   "cell_type": "markdown",
   "metadata": {},
   "source": [
    "You need to use a different encryption key with everyone you communicate with, otherwise anyone who has ever received an encrypted message from you could open any message you sent to anyone else using that key<br>The sender and recipient must find a secure way to share the key itself."
   ]
  }
 ],
 "metadata": {
  "kernelspec": {
   "display_name": "Python 3",
   "language": "python",
   "name": "python3"
  },
  "language_info": {
   "codemirror_mode": {
    "name": "ipython",
    "version": 3
   },
   "file_extension": ".py",
   "mimetype": "text/x-python",
   "name": "python",
   "nbconvert_exporter": "python",
   "pygments_lexer": "ipython3",
   "version": "3.8.3"
  }
 },
 "nbformat": 4,
 "nbformat_minor": 2
}
