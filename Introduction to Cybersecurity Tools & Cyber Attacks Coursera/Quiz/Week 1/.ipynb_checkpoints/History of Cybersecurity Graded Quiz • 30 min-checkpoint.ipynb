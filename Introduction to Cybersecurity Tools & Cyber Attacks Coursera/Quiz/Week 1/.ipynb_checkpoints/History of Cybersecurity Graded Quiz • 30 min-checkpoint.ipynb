{
 "cells": [
  {
   "cell_type": "markdown",
   "metadata": {},
   "source": [
    "1.What was shown in the movie War Games that concerned President Reagan?"
   ]
  },
  {
   "cell_type": "markdown",
   "metadata": {},
   "source": [
    "A teenager hacked into a Pentagon computer that was capable of launching nuclear weapons"
   ]
  },
  {
   "cell_type": "markdown",
   "metadata": {},
   "source": [
    "2.In addition to the movie War Games, what other event made the need for advanced cybersecurity apparent?"
   ]
  },
  {
   "cell_type": "markdown",
   "metadata": {},
   "source": [
    "9/11"
   ]
  },
  {
   "cell_type": "markdown",
   "metadata": {},
   "source": [
    "3.What were the three (3) main cybersecurity concerns arising from the 9/11 attacks?"
   ]
  },
  {
   "cell_type": "markdown",
   "metadata": {},
   "source": [
    "Could this happen again?<br>How did this happen?<br>Could an attack like this happen in the virtual world too?"
   ]
  },
  {
   "cell_type": "markdown",
   "metadata": {},
   "source": [
    "4.According to a Forbes Magazine study, the annual cost of cybercrime in the United States alone has reached how much?"
   ]
  },
  {
   "cell_type": "markdown",
   "metadata": {},
   "source": [
    "$100B"
   ]
  },
  {
   "cell_type": "markdown",
   "metadata": {},
   "source": [
    "5.Who are Alice, Bob and Trudy?"
   ]
  },
  {
   "cell_type": "markdown",
   "metadata": {},
   "source": [
    "They are fictional characters used to illustrate how cryptography works"
   ]
  },
  {
   "cell_type": "markdown",
   "metadata": {},
   "source": [
    "6.Which of the following is considered a legitimate challenge to implementing a comprehensive cybersecurity solution?"
   ]
  },
  {
   "cell_type": "markdown",
   "metadata": {},
   "source": [
    "All of the above"
   ]
  },
  {
   "cell_type": "markdown",
   "metadata": {},
   "source": [
    "7.Jeff Crume described five challenges in security today. Which two (2) of these are challenges because their numbers are decreasing?"
   ]
  },
  {
   "cell_type": "markdown",
   "metadata": {},
   "source": [
    "-"
   ]
  },
  {
   "cell_type": "markdown",
   "metadata": {},
   "source": [
    "8.“A defined way to breach the security of an IT system through a vulnerability” is the definition of which key cybersecurity term?"
   ]
  },
  {
   "cell_type": "markdown",
   "metadata": {},
   "source": [
    "Exploit"
   ]
  },
  {
   "cell_type": "markdown",
   "metadata": {},
   "source": [
    "9.“A situation involving exposure to a danger.” Is the definition of which key cybersecurity term?"
   ]
  },
  {
   "cell_type": "markdown",
   "metadata": {},
   "source": [
    "Risk"
   ]
  },
  {
   "cell_type": "markdown",
   "metadata": {},
   "source": [
    "10.Which aspect of a comprehensive approach to cybersecurity includes these items: evaluate, create teams, establish baselines, identify and model threats, identify use cases, identify risks, establish monitoring and control requirements?"
   ]
  },
  {
   "cell_type": "markdown",
   "metadata": {},
   "source": [
    "Security program"
   ]
  },
  {
   "cell_type": "markdown",
   "metadata": {},
   "source": [
    "11.According to a 2018 report by Domo, over what period of time do the following things occur: 49,380 videos are uploaded to Instagram, 25,000 gifs are sent on Facebook Messenger, 4.2 million videos are viewed on Snapchat and 473,400 tweets are sent on Twitter?"
   ]
  },
  {
   "cell_type": "markdown",
   "metadata": {},
   "source": [
    "-"
   ]
  },
  {
   "cell_type": "markdown",
   "metadata": {},
   "source": [
    "12.In the examples using Bob, Alice and Trudy, what aspect of cybersecurity is being illustrated?"
   ]
  },
  {
   "cell_type": "markdown",
   "metadata": {},
   "source": [
    "The security of communication between Alice and Bob that risks interception by Trudy"
   ]
  },
  {
   "cell_type": "markdown",
   "metadata": {},
   "source": [
    "13.Alice sends an unencrypted message to Bob but it is intercepted by Trudy. Trudy reads the message but does not in any way interfere with its content or delivery. Which precept of the CIA Triad would have been violated?"
   ]
  },
  {
   "cell_type": "markdown",
   "metadata": {},
   "source": [
    "Confidentiality"
   ]
  },
  {
   "cell_type": "markdown",
   "metadata": {},
   "source": [
    "14.Alice sends an encrypted message to Bob but it is intercepted by Trudy. Trudy cannot read it so, in anger, she deletes it without allowing its delivery to Bob. Which precept of the CIA Triad would have been violated?"
   ]
  },
  {
   "cell_type": "markdown",
   "metadata": {},
   "source": [
    "Availability"
   ]
  },
  {
   "cell_type": "markdown",
   "metadata": {},
   "source": [
    "15.Alice sends an encrypted message to Bob but it is intercepted by Trudy. Trudy cannot read it but forwards it on to Bob from an anonymous address she controls. Which precept of the CIA Triad would have been violated?"
   ]
  },
  {
   "cell_type": "markdown",
   "metadata": {},
   "source": [
    "Integrity"
   ]
  },
  {
   "cell_type": "markdown",
   "metadata": {},
   "source": [
    "16.A major metropolitan police department gets a warrant from a judge to hack into the computer of a suspected crime boss. A skilled penetration tester working for the department conducts the hack and retrieves incriminating evidence. What color hat does this officer wear?"
   ]
  },
  {
   "cell_type": "markdown",
   "metadata": {},
   "source": [
    "A White Hat"
   ]
  },
  {
   "cell_type": "markdown",
   "metadata": {},
   "source": [
    "17.Which three (3) are resources that are available to help guide penetration testing efforts by cybersecurity specialists?"
   ]
  },
  {
   "cell_type": "markdown",
   "metadata": {},
   "source": [
    "Open Source Security Testing Methodology Manual (OSSTMM)<br>NIST SP 800-42 Guidelines on Network Security Testing<br>Federal Financial Institutions Examination Council (EFIEC) Information Technology Examination"
   ]
  },
  {
   "cell_type": "markdown",
   "metadata": {},
   "source": [
    "18.According to the Vulnerability Assessment Methodology, Vulnerabilities are determined by which 2 factors?"
   ]
  },
  {
   "cell_type": "markdown",
   "metadata": {},
   "source": [
    "-"
   ]
  }
 ],
 "metadata": {
  "kernelspec": {
   "display_name": "Python 3",
   "language": "python",
   "name": "python3"
  },
  "language_info": {
   "codemirror_mode": {
    "name": "ipython",
    "version": 3
   },
   "file_extension": ".py",
   "mimetype": "text/x-python",
   "name": "python",
   "nbconvert_exporter": "python",
   "pygments_lexer": "ipython3",
   "version": "3.8.3"
  }
 },
 "nbformat": 4,
 "nbformat_minor": 2
}
