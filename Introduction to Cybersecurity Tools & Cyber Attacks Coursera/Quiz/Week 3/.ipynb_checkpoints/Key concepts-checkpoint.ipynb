{
 "cells": [
  {
   "cell_type": "markdown",
   "metadata": {},
   "source": [
    "1.Which key components are part of incident response?"
   ]
  },
  {
   "cell_type": "markdown",
   "metadata": {},
   "source": [
    "-"
   ]
  },
  {
   "cell_type": "markdown",
   "metadata": {},
   "source": [
    "2.Which is not part of the Sans Institutes Audit process?"
   ]
  },
  {
   "cell_type": "markdown",
   "metadata": {},
   "source": [
    "Help to translate the business needs into technical or operational needs."
   ]
  },
  {
   "cell_type": "markdown",
   "metadata": {},
   "source": [
    "3.Which key concept to understand incident response is defined as data inventory, helps to understand the current tech status, data classification, data management, we could use automated systems. Understand how you control data retention and backup."
   ]
  },
  {
   "cell_type": "markdown",
   "metadata": {},
   "source": [
    "E-Discovery"
   ]
  },
  {
   "cell_type": "markdown",
   "metadata": {},
   "source": [
    "4.Which is not included as part of the IT Governance process?"
   ]
  },
  {
   "cell_type": "markdown",
   "metadata": {},
   "source": [
    "Audits"
   ]
  },
  {
   "cell_type": "markdown",
   "metadata": {},
   "source": [
    "5.Trudy reading Alice’s message to Bob is a violation of which aspect of the CIA Triad?"
   ]
  },
  {
   "cell_type": "markdown",
   "metadata": {},
   "source": [
    "Confidentiality"
   ]
  },
  {
   "cell_type": "markdown",
   "metadata": {},
   "source": [
    "6.A hash is a mathematical algorithm that helps assure which aspect of the CIA Triad?"
   ]
  },
  {
   "cell_type": "markdown",
   "metadata": {},
   "source": [
    "Integrity"
   ]
  },
  {
   "cell_type": "markdown",
   "metadata": {},
   "source": [
    "7.A successful DOS attack against your company’s servers is a violation of which aspect of the CIA Triad?"
   ]
  },
  {
   "cell_type": "markdown",
   "metadata": {},
   "source": [
    "Availability"
   ]
  },
  {
   "cell_type": "markdown",
   "metadata": {},
   "source": [
    "8.Which of these is an example of the concept of non-repudiation?"
   ]
  },
  {
   "cell_type": "markdown",
   "metadata": {},
   "source": [
    "-"
   ]
  },
  {
   "cell_type": "markdown",
   "metadata": {},
   "source": [
    "9.You have been asked to establish access to corporate documents in such a way that they can be read from anywhere, but only modified while the employees are in the office. Which 2 access criteria types were likely involved in setting this up?"
   ]
  },
  {
   "cell_type": "markdown",
   "metadata": {},
   "source": [
    "Transaction type<br>Physical location"
   ]
  },
  {
   "cell_type": "markdown",
   "metadata": {},
   "source": [
    "10.In incident management, an observed change to the normal behavior of a system, environment or process is called what?"
   ]
  },
  {
   "cell_type": "markdown",
   "metadata": {},
   "source": [
    "Event"
   ]
  },
  {
   "cell_type": "markdown",
   "metadata": {},
   "source": [
    "11.In incident management, tools like SIEM, SOA and UBA are part of which key concept?"
   ]
  },
  {
   "cell_type": "markdown",
   "metadata": {},
   "source": [
    "Automated system"
   ]
  },
  {
   "cell_type": "markdown",
   "metadata": {},
   "source": [
    "12.Which of the phase of the Incident Response Process do steps like Carry out a post incident review and Communicate and build on lessons learned fall into?"
   ]
  },
  {
   "cell_type": "markdown",
   "metadata": {},
   "source": [
    "Follow Up"
   ]
  },
  {
   "cell_type": "markdown",
   "metadata": {},
   "source": [
    "13.In the context of security standards and compliance, which two (2) of these are considered normative and compliance items?"
   ]
  },
  {
   "cell_type": "markdown",
   "metadata": {},
   "source": [
    "They are rules to follow for a specific industry<br>They serve as an enforcement mechanism for government, industry or clients"
   ]
  },
  {
   "cell_type": "markdown",
   "metadata": {},
   "source": [
    "14.A company document that details how an employee should request Internet access for her computer would be which of the following?"
   ]
  },
  {
   "cell_type": "markdown",
   "metadata": {},
   "source": [
    "Procedure"
   ]
  },
  {
   "cell_type": "markdown",
   "metadata": {},
   "source": [
    "15.Which of these is a methodology by which to conduct audits?"
   ]
  },
  {
   "cell_type": "markdown",
   "metadata": {},
   "source": [
    "OCTAVE"
   ]
  },
  {
   "cell_type": "markdown",
   "metadata": {},
   "source": [
    "16.Mile 2 CPTE Training teaches you how to do what?"
   ]
  },
  {
   "cell_type": "markdown",
   "metadata": {},
   "source": [
    "Conduct a pentest"
   ]
  },
  {
   "cell_type": "markdown",
   "metadata": {},
   "source": [
    "17.Which three (3) statements about OWASP are True?"
   ]
  },
  {
   "cell_type": "markdown",
   "metadata": {},
   "source": [
    "OWASP stands for Open Web Application Security Project<br>OWASP provides tools and guidance for mobile applications<br>OWASP provides guidance and tools to help you address web application vulnerabilities on their Top 10 list"
   ]
  }
 ],
 "metadata": {
  "kernelspec": {
   "display_name": "Python 3",
   "language": "python",
   "name": "python3"
  },
  "language_info": {
   "codemirror_mode": {
    "name": "ipython",
    "version": 3
   },
   "file_extension": ".py",
   "mimetype": "text/x-python",
   "name": "python",
   "nbconvert_exporter": "python",
   "pygments_lexer": "ipython3",
   "version": "3.8.3"
  }
 },
 "nbformat": 4,
 "nbformat_minor": 2
}
