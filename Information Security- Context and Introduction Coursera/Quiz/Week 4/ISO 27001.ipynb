{
 "cells": [
  {
   "cell_type": "markdown",
   "metadata": {},
   "source": [
    "1.The ISO 27001 is:"
   ]
  },
  {
   "cell_type": "markdown",
   "metadata": {},
   "source": [
    "A standard that establishes the requirements for the implementation of an information security management system"
   ]
  },
  {
   "cell_type": "markdown",
   "metadata": {},
   "source": [
    "2.The ISO 27000 standards series provides: (multiple answers possible)"
   ]
  },
  {
   "cell_type": "markdown",
   "metadata": {},
   "source": [
    "Description and guidance on security controls<br>Definitions of basic terminology related to information security<br>Guidance on risk assessment"
   ]
  },
  {
   "cell_type": "markdown",
   "metadata": {},
   "source": [
    "3.The ISO 27000 series is sector-agnostic. This is, it does not include any supplements to adapt sector specific processes for information security management."
   ]
  },
  {
   "cell_type": "markdown",
   "metadata": {},
   "source": [
    "True"
   ]
  },
  {
   "cell_type": "markdown",
   "metadata": {},
   "source": [
    "4.Organisations can request to be certified against:"
   ]
  },
  {
   "cell_type": "markdown",
   "metadata": {},
   "source": [
    "Their ISO 27001 implementation and operation of an information security management system"
   ]
  },
  {
   "cell_type": "markdown",
   "metadata": {},
   "source": [
    "5.The Plan-Do-Check-Act model establishes a set of tasks that must be executed in cycles. Although this model was used in previous versions of the ISO 27001 standard, it is still valid as an effective approach to implement an effective Information Security Management System (ISMS). In fact, when implementing a ISMS using the Plan-Do-Check-Act (select those that are true):"
   ]
  },
  {
   "cell_type": "markdown",
   "metadata": {},
   "source": [
    "-"
   ]
  },
  {
   "cell_type": "markdown",
   "metadata": {},
   "source": [
    "6.Select which of the following items are requirements for an information security management system to operate:"
   ]
  },
  {
   "cell_type": "markdown",
   "metadata": {},
   "source": [
    "Internal audits<br>Document control"
   ]
  }
 ],
 "metadata": {
  "kernelspec": {
   "display_name": "Python 3",
   "language": "python",
   "name": "python3"
  },
  "language_info": {
   "codemirror_mode": {
    "name": "ipython",
    "version": 3
   },
   "file_extension": ".py",
   "mimetype": "text/x-python",
   "name": "python",
   "nbconvert_exporter": "python",
   "pygments_lexer": "ipython3",
   "version": "3.8.3"
  }
 },
 "nbformat": 4,
 "nbformat_minor": 2
}
