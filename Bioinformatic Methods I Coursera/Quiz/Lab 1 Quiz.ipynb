{
 "cells": [
  {
   "cell_type": "markdown",
   "metadata": {},
   "source": [
    "1.In the fourth lab question for the first part of the lab, you performed several GQuery searches. How many proteins are returned in a GQuery search with NP_001318308?"
   ]
  },
  {
   "cell_type": "markdown",
   "metadata": {},
   "source": [
    "1"
   ]
  },
  {
   "cell_type": "markdown",
   "metadata": {},
   "source": [
    "2.Question 2\n",
    "In the second part of the lab, in Step 2, you perform a nucleotide Blast with a query sequence. Change the Expect threshold e-value to 1e-180 in the Algorithm Parameters section (but keep all the other parameters the same as in the lab, i.e. as shown in Figures 11 and 12) . How many blast hits are returned if you set the e-value threshold to 1e-180?"
   ]
  },
  {
   "cell_type": "markdown",
   "metadata": {},
   "source": [
    "44 Blast hits in 34 sequences"
   ]
  },
  {
   "cell_type": "markdown",
   "metadata": {},
   "source": [
    "3.This question relates to the Description section of the output that Blast generates for your query with NM_001336190.1 during the lab as per the settings in Figures 11 and 12 (note: the idea is to do these lab quizzes while you're doing the labs!). What is the accession number for the best Arabidopsis lyrata match?"
   ]
  },
  {
   "cell_type": "markdown",
   "metadata": {},
   "source": [
    "XM_021028953.1"
   ]
  }
 ],
 "metadata": {
  "kernelspec": {
   "display_name": "Python 3",
   "language": "python",
   "name": "python3"
  },
  "language_info": {
   "codemirror_mode": {
    "name": "ipython",
    "version": 3
   },
   "file_extension": ".py",
   "mimetype": "text/x-python",
   "name": "python",
   "nbconvert_exporter": "python",
   "pygments_lexer": "ipython3",
   "version": "3.8.3"
  }
 },
 "nbformat": 4,
 "nbformat_minor": 4
}
