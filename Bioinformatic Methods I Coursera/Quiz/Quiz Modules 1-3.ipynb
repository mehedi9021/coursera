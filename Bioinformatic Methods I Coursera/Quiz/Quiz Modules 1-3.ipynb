{
 "cells": [
  {
   "cell_type": "markdown",
   "metadata": {},
   "source": [
    "1.Which alignment method does BLAST use? Which type of BLAST can be used to identify distant relationships?"
   ]
  },
  {
   "cell_type": "markdown",
   "metadata": {},
   "source": [
    "Heuristic. PSI-BLAST"
   ]
  },
  {
   "cell_type": "markdown",
   "metadata": {},
   "source": [
    "2.You’ve got the sequence of a novel cDNA fresh from the sequencing machine and want to know what it might code for, but the BlastX server is offline. Describe how you’d implement a search using the BlastP server, assuming you have online tools for translating a sequence available. "
   ]
  },
  {
   "cell_type": "markdown",
   "metadata": {},
   "source": [
    "Translate the DNA sequence into a protein sequence and do this for all 6 reading frames"
   ]
  },
  {
   "cell_type": "markdown",
   "metadata": {},
   "source": [
    "3.Substitution matrices such as PAM and BLOSUM were generated using trusted sequence alignments. Valine, isoleucine, and leucine all typically have positive scores in these matrices when compared one to another. Why?"
   ]
  },
  {
   "cell_type": "markdown",
   "metadata": {},
   "source": [
    "They are aliphatic amino acids"
   ]
  },
  {
   "cell_type": "markdown",
   "metadata": {},
   "source": [
    "4.What does this dotplot tell you about how sequences 1 and 2 align with each other? How many HSPs are there?"
   ]
  },
  {
   "cell_type": "markdown",
   "metadata": {},
   "source": [
    "<img src=\"image/img1.JPG\">"
   ]
  },
  {
   "cell_type": "markdown",
   "metadata": {},
   "source": [
    "It says that sequence 2 and sequence 1 align quite well, but that there is an inversion in sequence 2 with a small deletion in this region for sequence 2 and a small insertion in sequence 2 before and after the inversion. There are 3 HSPs"
   ]
  },
  {
   "cell_type": "markdown",
   "metadata": {},
   "source": [
    "5.In Question 4, how many diagonals are there and how many of these are consistent? What would be a good program to align these sequences? "
   ]
  },
  {
   "cell_type": "markdown",
   "metadata": {},
   "source": [
    "There are 3 diagonals. 1 is consistent. MAFFT would be a good program to align the sequences"
   ]
  }
 ],
 "metadata": {
  "kernelspec": {
   "display_name": "Python 3",
   "language": "python",
   "name": "python3"
  },
  "language_info": {
   "codemirror_mode": {
    "name": "ipython",
    "version": 3
   },
   "file_extension": ".py",
   "mimetype": "text/x-python",
   "name": "python",
   "nbconvert_exporter": "python",
   "pygments_lexer": "ipython3",
   "version": "3.8.3"
  }
 },
 "nbformat": 4,
 "nbformat_minor": 4
}
