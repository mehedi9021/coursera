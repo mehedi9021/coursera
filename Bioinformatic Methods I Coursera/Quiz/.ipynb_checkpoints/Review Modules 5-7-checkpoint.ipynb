{
 "cells": [
  {
   "cell_type": "markdown",
   "metadata": {},
   "source": [
    "1.Name two kinds of DNA substitutions which could result in homoplasy?"
   ]
  },
  {
   "cell_type": "markdown",
   "metadata": {},
   "source": [
    "Convergent substitutions and parallel substitutions"
   ]
  },
  {
   "cell_type": "markdown",
   "metadata": {},
   "source": [
    "2.Two new “must try” next-generation de novo sequence assemblers, BUBBLeS and NyLON, have N50 scores of 1200 bp and 1500 bp, respectively, with a genome you’ve assembled with them. Which would you recommend to your colleagues for their assembly projects and, briefly, why?"
   ]
  },
  {
   "cell_type": "markdown",
   "metadata": {},
   "source": [
    "NyLON because the contigs are larger"
   ]
  },
  {
   "cell_type": "markdown",
   "metadata": {},
   "source": [
    "3.What are the advantages of distance-based phylogenetic methods?"
   ]
  },
  {
   "cell_type": "markdown",
   "metadata": {},
   "source": [
    "They are computationally fast and the single best tree is found"
   ]
  },
  {
   "cell_type": "markdown",
   "metadata": {},
   "source": [
    "4.Describe in words the basis of the Ka/Ks ratio test."
   ]
  },
  {
   "cell_type": "markdown",
   "metadata": {},
   "source": [
    "Calculates the rate of non-synonymous substitutions (dN) to synonymous substitutions (dS)"
   ]
  },
  {
   "cell_type": "markdown",
   "metadata": {},
   "source": [
    "5.If you were a biochemist interested in functional residues in a given protein, what sort of Ka/Ks score for individual residues would you look for in a selection analysis based on orthologous proteins’ coding sequences and why?"
   ]
  },
  {
   "cell_type": "markdown",
   "metadata": {},
   "source": [
    "Ka/Ks score less than 1 as this indicates purifying/negative selection denoting functional constraint"
   ]
  }
 ],
 "metadata": {
  "kernelspec": {
   "display_name": "Python 3",
   "language": "python",
   "name": "python3"
  },
  "language_info": {
   "codemirror_mode": {
    "name": "ipython",
    "version": 3
   },
   "file_extension": ".py",
   "mimetype": "text/x-python",
   "name": "python",
   "nbconvert_exporter": "python",
   "pygments_lexer": "ipython3",
   "version": "3.8.3"
  }
 },
 "nbformat": 4,
 "nbformat_minor": 4
}
