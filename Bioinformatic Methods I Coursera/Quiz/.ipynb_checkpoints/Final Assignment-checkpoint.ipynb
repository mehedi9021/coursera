{
 "cells": [
  {
   "cell_type": "markdown",
   "metadata": {},
   "source": [
    "1.For the gene At3g59490, retrieve the corresponding protein sequence from TAIR\n",
    "\n",
    "(http://www.arabidopsis.org/tools/bulk/sequences/index.jsp).Remember to choose the correct dataset and output format.\n",
    "\n",
    "Now, navigate to BLASTP at NCBI and paste your genes sequence into the “query sequence” box. Set the database to “non-redundant protein sequences (nr)”, keep all settings at default, except in the Algorithm parameters section permit 500 \"max target sequences\" (not the default 100), and click BLAST.\n",
    "\n",
    "Take note of the top match (ortholog) for each of the other species, for 20 different species excluding your query species. Of the following, which species’ gene is most closely related to your query gene?"
   ]
  },
  {
   "cell_type": "markdown",
   "metadata": {},
   "source": [
    "Capsella rubella"
   ]
  },
  {
   "cell_type": "markdown",
   "metadata": {},
   "source": [
    "2.In order to hypothesise a putative function, consider the 20 highest scoring proteins. Based on these observations, which annotation/description would you attribute to your query gene?"
   ]
  },
  {
   "cell_type": "markdown",
   "metadata": {},
   "source": [
    "Unknown"
   ]
  },
  {
   "cell_type": "markdown",
   "metadata": {},
   "source": [
    "3.For your Arabidopsis thaliana gene, select the most closely related genes from Capsella rubella, Brassica rapa, Brassica napus, Hevea brasiliensis, and Jatropha curcas species by checking the box next to gene description (note - these are not necessarily the top 20 homologous sequences!). Then click “Download” and download the sequences in FASTA format. Navigate to Clustal Omega running on the EBI's server (https://www.ebi.ac.uk/Tools/msa/clustalo/) paste in the sequences in FASTA format, ensure the settings are as follows: Step 1, Protein sequences; Step 2, Output Format: ClustalW [not the one with character counts!]). Edit the sequence names such that you can easily identify which species they are from, e.g. A_thaliana for the Arabidopsis thaliana sequence, and click “Submit”*.\n",
    "\n",
    "Which residues are completely conserved across all species? Note: keep in mind what the various symbols below the Multiple Sequence Alignment (MSA) mean.\n",
    "\n",
    "*You can do the editing beforehand in a text editor like Sublime and use the regular expression Replace function to easily do this, for instance, by:"
   ]
  },
  {
   "cell_type": "markdown",
   "metadata": {},
   "source": [
    "<img src=\"image/img2.JPG\">"
   ]
  },
  {
   "cell_type": "markdown",
   "metadata": {},
   "source": [
    "DYGG"
   ]
  },
  {
   "cell_type": "markdown",
   "metadata": {},
   "source": [
    "4.Click on ‘Show Colors’ at the top of the screen. This will colour-code the multiple sequence alignment. You may notice that some of the columns are of the same colour but contain different amino acids. Why do you think this may be?"
   ]
  },
  {
   "cell_type": "markdown",
   "metadata": {},
   "source": [
    "Amino acids of the same colour can have different physicochemical properties, but are still considered interchangeable without penalty in substitution matrices"
   ]
  },
  {
   "cell_type": "markdown",
   "metadata": {},
   "source": [
    "5.Download the MSA, by right-clicking (or Ctrl plus click on a Mac) on “Download Alignment File” and saving to your computer in ClustalW format (not the default with counts!). We will now conduct a neighbour-joining phylogenetic analysis in order to determine the relationship between your gene and its orthologs. In MEGA, open your MSA file that you saved above, by clicking on “File > Open a File/Session”. In Mega's Text File Editor, convert your file to .MEG format by clicking on “Utilities > Convert to MEGA Format” and saving as a .meg file (be sure to specify that you're converting from the Clustal format when doing so).\n",
    "\n",
    "Now, re-open this MEGA file by again clicking on “File > Open a File/Session” and select \"Protein\" sequences (if you get an error that the sequences must be of the same length, there might be some extra characters that get added at the end of the file after you convert it to MEGA format, like \"#:\" and \":\". Remove everything after the last amino acid of the last sequence, either in a text editor or with MEGA's editor, to solve this problem). Then click on “Analysis > Phylogeny > Construct/Test Neighbour-Joining Tree.”, and keep all settings as default (Test of Phylogeny = \"None\"; Model/Method = \"Poisson Model\"; Rates among Sites = \"Uniform rates\"; Gaps/Missing Data Treatment = \"Complete Deletion\").\n",
    "\n",
    "Consider your query gene in relation to its orthologs based on the tree that has been computed using MEGA. Which of these options best describes the relationships you see?"
   ]
  },
  {
   "cell_type": "markdown",
   "metadata": {},
   "source": [
    "(((A. thaliana, C. rubella),(B. rapa, B. napus)),(H. brasiliensis, J. curcas))"
   ]
  }
 ],
 "metadata": {
  "kernelspec": {
   "display_name": "Python 3",
   "language": "python",
   "name": "python3"
  },
  "language_info": {
   "codemirror_mode": {
    "name": "ipython",
    "version": 3
   },
   "file_extension": ".py",
   "mimetype": "text/x-python",
   "name": "python",
   "nbconvert_exporter": "python",
   "pygments_lexer": "ipython3",
   "version": "3.8.3"
  }
 },
 "nbformat": 4,
 "nbformat_minor": 4
}
