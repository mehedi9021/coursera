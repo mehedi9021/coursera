{
 "cells": [
  {
   "cell_type": "markdown",
   "metadata": {},
   "source": [
    "1.P. marinus 124024712 and P. marinus 72381840 group the same in bothmid-point-rooted and radiation-style unrooted trees: true or false?"
   ]
  },
  {
   "cell_type": "markdown",
   "metadata": {},
   "source": [
    "True"
   ]
  },
  {
   "cell_type": "markdown",
   "metadata": {},
   "source": [
    "2.How many well-supported nodes are there (bootstrap scores >= 70%) with the protein sequences you phylogenetically analyzed?"
   ]
  },
  {
   "cell_type": "markdown",
   "metadata": {},
   "source": [
    "10"
   ]
  },
  {
   "cell_type": "markdown",
   "metadata": {},
   "source": [
    "3.What is the bootstrap score for the P. marinus clade containing the 5 P. marinus varieties in your ML phylogenetic analysis with aligned DNA sequences (note that a range is provided as the bootstrap process involves an element of randomness)?"
   ]
  },
  {
   "cell_type": "markdown",
   "metadata": {},
   "source": [
    "67 - 75"
   ]
  }
 ],
 "metadata": {
  "kernelspec": {
   "display_name": "Python 3",
   "language": "python",
   "name": "python3"
  },
  "language_info": {
   "codemirror_mode": {
    "name": "ipython",
    "version": 3
   },
   "file_extension": ".py",
   "mimetype": "text/x-python",
   "name": "python",
   "nbconvert_exporter": "python",
   "pygments_lexer": "ipython3",
   "version": "3.8.3"
  }
 },
 "nbformat": 4,
 "nbformat_minor": 4
}
