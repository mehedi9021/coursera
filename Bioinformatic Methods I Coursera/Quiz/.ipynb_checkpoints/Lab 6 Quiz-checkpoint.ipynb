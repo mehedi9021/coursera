{
 "cells": [
  {
   "cell_type": "markdown",
   "metadata": {},
   "source": [
    "1.Which sample has the lowest expression? OgR, OgP or OgL? (Keep in mind that RuBisCO is involved in photosynthesis, so where would you not expect expression of RuBisCO?)"
   ]
  },
  {
   "cell_type": "markdown",
   "metadata": {},
   "source": [
    "OgR"
   ]
  },
  {
   "cell_type": "markdown",
   "metadata": {},
   "source": [
    "2.Which phylum is most abundant in the sample from the Indian Ocean: Cyanobacteria, Proteobacteria, Steptophyta, Nematoda, or Deinococcus?"
   ]
  },
  {
   "cell_type": "markdown",
   "metadata": {},
   "source": [
    "Cyanobacteria"
   ]
  },
  {
   "cell_type": "markdown",
   "metadata": {},
   "source": [
    "3.Which subsystem is most abundant in the Acid Mine Drainage sample (4441138.3), in terms of the normalized values, at Level 2."
   ]
  },
  {
   "cell_type": "markdown",
   "metadata": {},
   "source": [
    "Di- and oligosaccharides"
   ]
  }
 ],
 "metadata": {
  "kernelspec": {
   "display_name": "Python 3",
   "language": "python",
   "name": "python3"
  },
  "language_info": {
   "codemirror_mode": {
    "name": "ipython",
    "version": 3
   },
   "file_extension": ".py",
   "mimetype": "text/x-python",
   "name": "python",
   "nbconvert_exporter": "python",
   "pygments_lexer": "ipython3",
   "version": "3.8.3"
  }
 },
 "nbformat": 4,
 "nbformat_minor": 4
}
