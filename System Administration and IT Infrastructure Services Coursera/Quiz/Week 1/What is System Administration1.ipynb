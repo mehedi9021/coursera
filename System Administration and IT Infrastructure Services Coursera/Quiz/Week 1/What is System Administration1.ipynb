{
 "cells": [
  {
   "cell_type": "markdown",
   "metadata": {},
   "source": [
    "1.Which of the following can be a responsibility of a systems administrator?"
   ]
  },
  {
   "cell_type": "markdown",
   "metadata": {},
   "source": [
    "All of the above"
   ]
  },
  {
   "cell_type": "markdown",
   "metadata": {},
   "source": [
    "2.Which of the following make up IT infrastructure?"
   ]
  },
  {
   "cell_type": "markdown",
   "metadata": {},
   "source": [
    "All of the above"
   ]
  },
  {
   "cell_type": "markdown",
   "metadata": {},
   "source": [
    "3.Which of these is considered a server? Check all that apply."
   ]
  },
  {
   "cell_type": "markdown",
   "metadata": {},
   "source": [
    "A software that provides a service to other software<br>Software that provides a service to other machines<br>A computer that provides a service to other computers"
   ]
  },
  {
   "cell_type": "markdown",
   "metadata": {},
   "source": [
    "4.A KVM switch is used to:"
   ]
  },
  {
   "cell_type": "markdown",
   "metadata": {},
   "source": [
    "switch between multiple computers using one monitor, keyboard, and mouse"
   ]
  },
  {
   "cell_type": "markdown",
   "metadata": {},
   "source": [
    "5.Which of these server hardware can you stack on top of each other in a server rack?"
   ]
  },
  {
   "cell_type": "markdown",
   "metadata": {},
   "source": [
    "Blade<br>Rack"
   ]
  },
  {
   "cell_type": "markdown",
   "metadata": {},
   "source": [
    "6.With _______, you can access your data, use applications, and more from anywhere in the world, as long as you have an Internet connection."
   ]
  },
  {
   "cell_type": "markdown",
   "metadata": {},
   "source": [
    "cloud computing"
   ]
  },
  {
   "cell_type": "markdown",
   "metadata": {},
   "source": [
    "7.What are the benefits of cloud computing over local computing? Check all that apply."
   ]
  },
  {
   "cell_type": "markdown",
   "metadata": {},
   "source": [
    "There are smaller starting costs for cloud computing<br>Services are accessible from anywhere in the world<br>Software updates are handled by the company providing the service"
   ]
  },
  {
   "cell_type": "markdown",
   "metadata": {},
   "source": [
    "8.What are the benefits of local computing over cloud computing? Check all that apply."
   ]
  },
  {
   "cell_type": "markdown",
   "metadata": {},
   "source": [
    "You have complete control of the IT infrastructure<br>"
   ]
  }
 ],
 "metadata": {
  "kernelspec": {
   "display_name": "Python 3",
   "language": "python",
   "name": "python3"
  },
  "language_info": {
   "codemirror_mode": {
    "name": "ipython",
    "version": 3
   },
   "file_extension": ".py",
   "mimetype": "text/x-python",
   "name": "python",
   "nbconvert_exporter": "python",
   "pygments_lexer": "ipython3",
   "version": "3.8.3"
  }
 },
 "nbformat": 4,
 "nbformat_minor": 2
}
