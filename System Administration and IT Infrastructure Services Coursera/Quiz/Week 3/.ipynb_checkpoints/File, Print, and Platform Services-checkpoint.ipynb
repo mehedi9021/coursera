{
 "cells": [
  {
   "cell_type": "markdown",
   "metadata": {},
   "source": [
    "1.What are the benefits of setting up an NFS server? Check all that apply."
   ]
  },
  {
   "cell_type": "markdown",
   "metadata": {},
   "source": [
    "Storing files on a network drive<br>Enabling files to be shared over a network"
   ]
  },
  {
   "cell_type": "markdown",
   "metadata": {},
   "source": [
    "2.What methods could you use to set up printing in an organization? Check all that apply."
   ]
  },
  {
   "cell_type": "markdown",
   "metadata": {},
   "source": [
    "Directly connecting a printer<br>Setting up a print server<br>Using a cloud service to set up printers"
   ]
  },
  {
   "cell_type": "markdown",
   "metadata": {},
   "source": [
    "3.When you have a web server, what service is used to enable HTTP requests to be processed?"
   ]
  },
  {
   "cell_type": "markdown",
   "metadata": {},
   "source": [
    "An HTTP server"
   ]
  },
  {
   "cell_type": "markdown",
   "metadata": {},
   "source": [
    "4.You can use a(n) ______________to store large amounts of customer data for a website."
   ]
  },
  {
   "cell_type": "markdown",
   "metadata": {},
   "source": [
    "database server"
   ]
  }
 ],
 "metadata": {
  "kernelspec": {
   "display_name": "Python 3",
   "language": "python",
   "name": "python3"
  },
  "language_info": {
   "codemirror_mode": {
    "name": "ipython",
    "version": 3
   },
   "file_extension": ".py",
   "mimetype": "text/x-python",
   "name": "python",
   "nbconvert_exporter": "python",
   "pygments_lexer": "ipython3",
   "version": "3.8.3"
  }
 },
 "nbformat": 4,
 "nbformat_minor": 2
}
