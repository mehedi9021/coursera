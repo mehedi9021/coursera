{
 "cells": [
  {
   "cell_type": "markdown",
   "metadata": {},
   "source": [
    "1.HTTP status codes that begin with 4xx, like 404, indicate errors on:"
   ]
  },
  {
   "cell_type": "markdown",
   "metadata": {},
   "source": [
    "The client-side"
   ]
  },
  {
   "cell_type": "markdown",
   "metadata": {},
   "source": [
    "2.HTTP status codes that begin with 5xx, like 501, indicate errors on:"
   ]
  },
  {
   "cell_type": "markdown",
   "metadata": {},
   "source": [
    "The server-side"
   ]
  }
 ],
 "metadata": {
  "kernelspec": {
   "display_name": "Python 3",
   "language": "python",
   "name": "python3"
  },
  "language_info": {
   "codemirror_mode": {
    "name": "ipython",
    "version": 3
   },
   "file_extension": ".py",
   "mimetype": "text/x-python",
   "name": "python",
   "nbconvert_exporter": "python",
   "pygments_lexer": "ipython3",
   "version": "3.8.3"
  }
 },
 "nbformat": 4,
 "nbformat_minor": 2
}
