{
 "cells": [
  {
   "cell_type": "markdown",
   "metadata": {},
   "source": [
    "1.You want to be super private with your email. You'd like to be able to download your email to a single device, then remove it from your email server. What email protocol can you use to do that?"
   ]
  },
  {
   "cell_type": "markdown",
   "metadata": {},
   "source": [
    "POP3"
   ]
  },
  {
   "cell_type": "markdown",
   "metadata": {},
   "source": [
    "2.What type of DNS record is used for email servers?"
   ]
  },
  {
   "cell_type": "markdown",
   "metadata": {},
   "source": [
    "MX"
   ]
  },
  {
   "cell_type": "markdown",
   "metadata": {},
   "source": [
    "3.Which of these is NOT an email protocol?"
   ]
  },
  {
   "cell_type": "markdown",
   "metadata": {},
   "source": [
    "IRC"
   ]
  },
  {
   "cell_type": "markdown",
   "metadata": {},
   "source": [
    "4.HTTPS is the secure version of HTTP. Which statements are true about HTTPS and security protocols? Check all that apply."
   ]
  },
  {
   "cell_type": "markdown",
   "metadata": {},
   "source": [
    "An HTTPS connection is authenticated by getting a digital certificate of trust from an entity called a certificate authority<br>HTTPS can be secured with Transport Layer Security protocol (TLS)<br>HTTPS can be secured with Secure Socket Layer protocol, or TLS."
   ]
  },
  {
   "cell_type": "markdown",
   "metadata": {},
   "source": [
    "5.Company B is setting up commercial printing services on their network. Which of these are advantages of centrally managed commercial printers? Check all that apply."
   ]
  },
  {
   "cell_type": "markdown",
   "metadata": {},
   "source": [
    "It provides a central interface to collect diagnostic reports, such as low toner levels<br>It allows the ability to deploy printer driver software so that your users can print from their computers<br>Physically distant printers can be more easily managed."
   ]
  },
  {
   "cell_type": "markdown",
   "metadata": {},
   "source": [
    "6.Where does customer information, such as news articles, videos, large amounts of text, images, or audio files, generally get stored for web services?"
   ]
  },
  {
   "cell_type": "markdown",
   "metadata": {},
   "source": [
    "On a database"
   ]
  },
  {
   "cell_type": "markdown",
   "metadata": {},
   "source": [
    "7.What is the main function of a database system?"
   ]
  },
  {
   "cell_type": "markdown",
   "metadata": {},
   "source": [
    "Databases allow us to store, query, filter, and manage large amounts of data"
   ]
  }
 ],
 "metadata": {
  "kernelspec": {
   "display_name": "Python 3",
   "language": "python",
   "name": "python3"
  },
  "language_info": {
   "codemirror_mode": {
    "name": "ipython",
    "version": 3
   },
   "file_extension": ".py",
   "mimetype": "text/x-python",
   "name": "python",
   "nbconvert_exporter": "python",
   "pygments_lexer": "ipython3",
   "version": "3.8.3"
  }
 },
 "nbformat": 4,
 "nbformat_minor": 2
}
