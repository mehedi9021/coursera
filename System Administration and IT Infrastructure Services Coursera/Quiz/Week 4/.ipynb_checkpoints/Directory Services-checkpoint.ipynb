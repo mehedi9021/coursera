{
 "cells": [
  {
   "cell_type": "markdown",
   "metadata": {},
   "source": [
    "1.What are the three ways to authenticate to an LDAP server?"
   ]
  },
  {
   "cell_type": "markdown",
   "metadata": {},
   "source": [
    "Anonymous bind<br>Simple bind<br>SASL"
   ]
  },
  {
   "cell_type": "markdown",
   "metadata": {},
   "source": [
    "2.When there are conflicting GPOs, what's the order in which they're evaluated and applied?"
   ]
  },
  {
   "cell_type": "markdown",
   "metadata": {},
   "source": [
    "Site, Domain, OU"
   ]
  },
  {
   "cell_type": "markdown",
   "metadata": {},
   "source": [
    "3.What would you use if you wanted to set a default wallpaper background for all machines in your company, but still wanted users to be able to set their own wallpaper?"
   ]
  },
  {
   "cell_type": "markdown",
   "metadata": {},
   "source": [
    "A preference"
   ]
  },
  {
   "cell_type": "markdown",
   "metadata": {},
   "source": [
    "4.A client discovers the address of a domain controller by making a DNS query for which record?"
   ]
  },
  {
   "cell_type": "markdown",
   "metadata": {},
   "source": [
    "SRV record"
   ]
  },
  {
   "cell_type": "markdown",
   "metadata": {},
   "source": [
    "5.What are examples of Lightweight Directory Access Protocol (LDAP) directory server software? Check all that apply."
   ]
  },
  {
   "cell_type": "markdown",
   "metadata": {},
   "source": [
    "OpenLDAP<br>Microsoft's Active Directory"
   ]
  },
  {
   "cell_type": "markdown",
   "metadata": {},
   "source": [
    "6.When you log into a website that uses a directory service, what command authenticates your username and password?"
   ]
  },
  {
   "cell_type": "markdown",
   "metadata": {},
   "source": [
    "Bind"
   ]
  },
  {
   "cell_type": "markdown",
   "metadata": {},
   "source": [
    "7.Which of these statements about Active Directory (AD) are true? Check all that appl"
   ]
  },
  {
   "cell_type": "markdown",
   "metadata": {},
   "source": [
    "AD can \"speak\" LDAP<br>AD is used as a central repository of group policy objects, or GPOs."
   ]
  },
  {
   "cell_type": "markdown",
   "metadata": {},
   "source": [
    "8.The following command is typed into PowerShell: Add-Computer -DomainName 'mywebsite.com' -Server 'dc2'. What does this command do?"
   ]
  },
  {
   "cell_type": "markdown",
   "metadata": {},
   "source": [
    "Joins a computer to the domain mywebsite.com using Domain Controller 2"
   ]
  },
  {
   "cell_type": "markdown",
   "metadata": {},
   "source": [
    "9.Which of these are common reasons a group policy doesn't take effect correctly? Check all that apply."
   ]
  },
  {
   "cell_type": "markdown",
   "metadata": {},
   "source": [
    "Replication failure may occur<br>Fast Logon Optimization may delay GPO changes from taking effect<br>Kerberos may have issues with the UTC time on the clock."
   ]
  },
  {
   "cell_type": "markdown",
   "metadata": {},
   "source": [
    "10.You're trying to remove an organizational unit (OU) that an LDAP Data Interchange Format (LDIF) file refers to. Which Command Line Interface (CLI) command would you use?"
   ]
  },
  {
   "cell_type": "markdown",
   "metadata": {},
   "source": [
    "ldapdelete"
   ]
  }
 ],
 "metadata": {
  "kernelspec": {
   "display_name": "Python 3",
   "language": "python",
   "name": "python3"
  },
  "language_info": {
   "codemirror_mode": {
    "name": "ipython",
    "version": 3
   },
   "file_extension": ".py",
   "mimetype": "text/x-python",
   "name": "python",
   "nbconvert_exporter": "python",
   "pygments_lexer": "ipython3",
   "version": "3.8.3"
  }
 },
 "nbformat": 4,
 "nbformat_minor": 2
}
