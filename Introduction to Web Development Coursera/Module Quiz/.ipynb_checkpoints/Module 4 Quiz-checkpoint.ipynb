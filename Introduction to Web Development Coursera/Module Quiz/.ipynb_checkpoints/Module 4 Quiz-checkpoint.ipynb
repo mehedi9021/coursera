{
 "cells": [
  {
   "cell_type": "markdown",
   "metadata": {},
   "source": [
    "1.When considering the visual design of our website, which of these approaches was recommended?"
   ]
  },
  {
   "cell_type": "markdown",
   "metadata": {},
   "source": [
    "Consider how the site will appear to users and seek feedback from friends"
   ]
  },
  {
   "cell_type": "markdown",
   "metadata": {},
   "source": [
    "2.When considering the visual design of our website, which of these approaches was recommended?"
   ]
  },
  {
   "cell_type": "markdown",
   "metadata": {},
   "source": [
    "Sites that critique designs of other sites can be useful"
   ]
  },
  {
   "cell_type": "markdown",
   "metadata": {},
   "source": [
    "3.What is true of approaches to CSS code? (Select all that apply.)"
   ]
  },
  {
   "cell_type": "markdown",
   "metadata": {},
   "source": [
    "External is the best option, Inline is the worst option"
   ]
  },
  {
   "cell_type": "markdown",
   "metadata": {},
   "source": [
    "4.The CSS code p.medium {color:green;font-size:150%;} can be described as: (Select all that apply.)"
   ]
  },
  {
   "cell_type": "markdown",
   "metadata": {},
   "source": [
    "Containing two name-value pairs"
   ]
  },
  {
   "cell_type": "markdown",
   "metadata": {},
   "source": [
    "5.When referring to a reference to an external CSS file we can say"
   ]
  },
  {
   "cell_type": "markdown",
   "metadata": {},
   "source": [
    "The HREF contains the name of the external CSS file"
   ]
  },
  {
   "cell_type": "markdown",
   "metadata": {},
   "source": [
    "6.What is true of name-value pairs in CSS? (Select all that apply.)"
   ]
  },
  {
   "cell_type": "markdown",
   "metadata": {},
   "source": [
    "Pairs are separated by semicolons, Name and value are separated by a colon"
   ]
  },
  {
   "cell_type": "markdown",
   "metadata": {},
   "source": [
    "7.When referring to CSS selectors we can say"
   ]
  },
  {
   "cell_type": "markdown",
   "metadata": {},
   "source": [
    "The pound sign # selects elements by ID"
   ]
  },
  {
   "cell_type": "markdown",
   "metadata": {},
   "source": [
    "8.CSS comments are best described by: (Select all that apply.)"
   ]
  },
  {
   "cell_type": "markdown",
   "metadata": {},
   "source": [
    "The /* */ can be used for single line comments, The /* */ can be used for multi-line comments"
   ]
  },
  {
   "cell_type": "markdown",
   "metadata": {},
   "source": [
    "9.Which strategy was recommended to get your CSS working?"
   ]
  },
  {
   "cell_type": "markdown",
   "metadata": {},
   "source": [
    "Get an external CSS file working with just one style to start"
   ]
  },
  {
   "cell_type": "markdown",
   "metadata": {},
   "source": [
    "10.What can be said about using color in CSS?"
   ]
  },
  {
   "cell_type": "markdown",
   "metadata": {},
   "source": [
    "Both background-color and color are necessary"
   ]
  },
  {
   "cell_type": "markdown",
   "metadata": {},
   "source": [
    "11.What can be said about using color in CSS?"
   ]
  },
  {
   "cell_type": "markdown",
   "metadata": {},
   "source": [
    "RGB allows greater control over the exact color"
   ]
  },
  {
   "cell_type": "markdown",
   "metadata": {},
   "source": [
    "12.What can we say about using CSS to control page layout?"
   ]
  },
  {
   "cell_type": "markdown",
   "metadata": {},
   "source": [
    "We can use float: left and clear: left"
   ]
  }
 ],
 "metadata": {
  "kernelspec": {
   "display_name": "Python 3",
   "language": "python",
   "name": "python3"
  },
  "language_info": {
   "codemirror_mode": {
    "name": "ipython",
    "version": 3
   },
   "file_extension": ".py",
   "mimetype": "text/x-python",
   "name": "python",
   "nbconvert_exporter": "python",
   "pygments_lexer": "ipython3",
   "version": "3.8.3"
  }
 },
 "nbformat": 4,
 "nbformat_minor": 2
}
