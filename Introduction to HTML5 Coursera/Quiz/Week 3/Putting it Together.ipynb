{
 "cells": [
  {
   "cell_type": "markdown",
   "metadata": {},
   "source": [
    "1.Which is the best/proper way to declare that your page uses the HTML5 protocol?"
   ]
  },
  {
   "cell_type": "code",
   "execution_count": null,
   "metadata": {},
   "outputs": [],
   "source": [
    "<!DOCTYPE html>"
   ]
  },
  {
   "cell_type": "markdown",
   "metadata": {},
   "source": [
    "2.Which is the best/proper way to declare that the language for your page is English?"
   ]
  },
  {
   "cell_type": "code",
   "execution_count": null,
   "metadata": {},
   "outputs": [],
   "source": [
    "<html lang=\"en\">"
   ]
  },
  {
   "cell_type": "markdown",
   "metadata": {},
   "source": [
    "3.What is the best/proper way to create the meta-data for your page?"
   ]
  },
  {
   "cell_type": "code",
   "execution_count": null,
   "metadata": {},
   "outputs": [],
   "source": [
    "<head>\n",
    "    <meta charset=\"utf-8\">\n",
    "    <title>Mister Rogers</title>\n",
    "</head>"
   ]
  },
  {
   "cell_type": "markdown",
   "metadata": {},
   "source": [
    "4.Which is the best/proper way to declare the header for a page?"
   ]
  },
  {
   "cell_type": "code",
   "execution_count": null,
   "metadata": {},
   "outputs": [],
   "source": [
    "<header>\n",
    "    <h1>Mister Rogers</h1>\n",
    "    <nav>\n",
    "    <a href=\"one.html\">one</a>\n",
    "    <a href=\"two.two.html\">two</a>\n",
    "    <a href=\"three.html\">three</a>\n",
    "    <a href=\"songs.html\">Songs</a>\n",
    "    </nav>\n",
    "</header>"
   ]
  },
  {
   "cell_type": "markdown",
   "metadata": {},
   "source": [
    "5.Which is the best/proper way to declare a section that has an h2 heading and an unordered list?"
   ]
  },
  {
   "cell_type": "code",
   "execution_count": null,
   "metadata": {},
   "outputs": [],
   "source": [
    "<section>\n",
    "    <h2>Favorite Foods</h2>\n",
    "    <ul>\n",
    "        <li>stuff</li>\n",
    "        <li>more</li>\n",
    "        <li>stuff</li>\n",
    "        <li>again</li>\n",
    "    </ul>\n",
    "</section>"
   ]
  },
  {
   "cell_type": "markdown",
   "metadata": {},
   "source": [
    "6.Which is the best/proper way to declare a section that has an h2 heading and three progress elements?"
   ]
  },
  {
   "cell_type": "code",
   "execution_count": null,
   "metadata": {},
   "outputs": [],
   "source": [
    "<section>\n",
    "<h2>Achievements</h2>\n",
    "<p>Progress in this course (100%)<progress value=\"1\"></progress><br/>\n",
    "Progress in the Specialization capstone (20%)<progress value=\"20\" max=\"100\"></progress><br/>\n",
    "Progress in life goals (70%)<progress value=\"70\" max=\"100\"></progress></p>\n",
    "</section>"
   ]
  },
  {
   "cell_type": "markdown",
   "metadata": {},
   "source": [
    "7.What is the best/proper way to declare a section that has an h2 heading and uses a detail tag?"
   ]
  },
  {
   "cell_type": "code",
   "execution_count": null,
   "metadata": {},
   "outputs": [],
   "source": [
    "<section>\n",
    "   <h2>More about me</h2>\n",
    "   <details open>\n",
    "    <summary>My Childhood</summary>\n",
    "    <p>stuff happened, I grew up</p>\n",
    "   </details>\n",
    "</section>"
   ]
  },
  {
   "cell_type": "markdown",
   "metadata": {},
   "source": [
    "8.What is the best/proper way to create a footer that has an image, paragraph, and link? Be careful, that paragraph includes a special entity."
   ]
  },
  {
   "cell_type": "code",
   "execution_count": null,
   "metadata": {},
   "outputs": [],
   "source": [
    "<footer>\n",
    "<p>\n",
    "        <img src=\"http://www.intro-webdesign.com/images/newlogo.png\" alt=\"new logo\">\n",
    "        This page was created by Troy &amp; Colleen van Lent. To learn more about web design, visit\n",
    "        <a href=\"http://www.intro-webdesign.com\">Intro to Web Design</a>\n",
    "    </p>\n",
    "</footer>"
   ]
  }
 ],
 "metadata": {
  "kernelspec": {
   "display_name": "Python 3",
   "language": "python",
   "name": "python3"
  },
  "language_info": {
   "codemirror_mode": {
    "name": "ipython",
    "version": 3
   },
   "file_extension": ".py",
   "mimetype": "text/x-python",
   "name": "python",
   "nbconvert_exporter": "python",
   "pygments_lexer": "ipython3",
   "version": "3.8.3"
  }
 },
 "nbformat": 4,
 "nbformat_minor": 2
}
