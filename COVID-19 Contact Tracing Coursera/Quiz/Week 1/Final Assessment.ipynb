{
 "cells": [
  {
   "cell_type": "markdown",
   "metadata": {},
   "source": [
    "1.COVID-19 is caused by the _____ virus."
   ]
  },
  {
   "cell_type": "markdown",
   "metadata": {},
   "source": [
    "SARS-CoV-2"
   ]
  },
  {
   "cell_type": "markdown",
   "metadata": {},
   "source": [
    "2.From where did the SARS-CoV-2 virus emerge?"
   ]
  },
  {
   "cell_type": "markdown",
   "metadata": {},
   "source": [
    "It is a bat virus that was able to infect humans"
   ]
  },
  {
   "cell_type": "markdown",
   "metadata": {},
   "source": [
    "3.Which of the following are common signs and symptoms of COVID-19? Select all that apply"
   ]
  },
  {
   "cell_type": "markdown",
   "metadata": {},
   "source": [
    "Fever<br>Muscle pain (myalgia)<br>Cough<br>Sore throat"
   ]
  },
  {
   "cell_type": "markdown",
   "metadata": {},
   "source": [
    "4.Sometimes, people infected with SARS-CoV-2 never show signs or symptoms. This is called a(n) ____________ infection."
   ]
  },
  {
   "cell_type": "markdown",
   "metadata": {},
   "source": [
    "Asymptomatic"
   ]
  },
  {
   "cell_type": "markdown",
   "metadata": {},
   "source": [
    "5.Which of these COVID-19 symptoms require immediate and urgent care? Select all that apply"
   ]
  },
  {
   "cell_type": "markdown",
   "metadata": {},
   "source": [
    "Trouble breathing"
   ]
  },
  {
   "cell_type": "markdown",
   "metadata": {},
   "source": [
    "6.The definition of infectious period is:"
   ]
  },
  {
   "cell_type": "markdown",
   "metadata": {},
   "source": [
    "The time during which a person sick with COVID-19 can infect others"
   ]
  },
  {
   "cell_type": "markdown",
   "metadata": {},
   "source": [
    "7.Who is at increased risk for severe disease? Select all that apply"
   ]
  },
  {
   "cell_type": "markdown",
   "metadata": {},
   "source": [
    "People with diabetes<br>People aged 65 and over<br>People who are obese<br>People with high blood pressure (hypertension)"
   ]
  },
  {
   "cell_type": "markdown",
   "metadata": {},
   "source": [
    "8.The most common test used to diagnose an active case of COVID-19 is:"
   ]
  },
  {
   "cell_type": "markdown",
   "metadata": {},
   "source": [
    "A PCR test to look for viral RNA in a nasal swab"
   ]
  },
  {
   "cell_type": "markdown",
   "metadata": {},
   "source": [
    "9.If you had COVID-19, you would be most likely to infect:"
   ]
  },
  {
   "cell_type": "markdown",
   "metadata": {},
   "source": [
    "Your spouse"
   ]
  },
  {
   "cell_type": "markdown",
   "metadata": {},
   "source": [
    "10.How SARS-CoV-2 is transmitted between people? Select all that apply"
   ]
  },
  {
   "cell_type": "markdown",
   "metadata": {},
   "source": [
    "Droplets from an infected person entering another person’s mouth, nose, or eyes"
   ]
  },
  {
   "cell_type": "markdown",
   "metadata": {},
   "source": [
    "11.Typically, someone with COVID-19 is contagious to others:"
   ]
  },
  {
   "cell_type": "markdown",
   "metadata": {},
   "source": [
    "In the 2 days before they develop symptoms and throughout their illness"
   ]
  },
  {
   "cell_type": "markdown",
   "metadata": {},
   "source": [
    "12.The incubation period of COVID-19 is:"
   ]
  },
  {
   "cell_type": "markdown",
   "metadata": {},
   "source": [
    "Usually five days, but can be as short as two days and as long as 14 days"
   ]
  },
  {
   "cell_type": "markdown",
   "metadata": {},
   "source": [
    "13.Which of the following statements is true about contact tracing for COVID-19?"
   ]
  },
  {
   "cell_type": "markdown",
   "metadata": {},
   "source": [
    "Preventing just one case of COVID-19 can have an impact on reducing the total number of cases over time."
   ]
  },
  {
   "cell_type": "markdown",
   "metadata": {},
   "source": [
    "14.Mr. Achebe was told that he tested positive for COVID-19. Which of the following persons would be considered a “contact” of his? Select all that apply"
   ]
  },
  {
   "cell_type": "markdown",
   "metadata": {},
   "source": [
    "Mr. Achebe’s daughter and sons who live with him<br>Mr. Achebe’s neighbor who visited the house to talk with him for an hour the day before Mr. Achebe began to feel bad"
   ]
  },
  {
   "cell_type": "markdown",
   "metadata": {},
   "source": [
    "15.Ms. Kim has COVID-19 and her daughter, Olivia, took care of her when she first became ill. When you talk to Olivia, you ask her to __________ as she has been exposed to Ms. Kim and could become infectious. You ask Ms. Kim to ___________ so as not to infect others."
   ]
  },
  {
   "cell_type": "markdown",
   "metadata": {},
   "source": [
    "Quarantine, isolate"
   ]
  },
  {
   "cell_type": "markdown",
   "metadata": {},
   "source": [
    "16.You are talking to Mr. Reyes, who tested positive for COVID-19 and tells you his symptoms began on July 1. During a regular follow up call on July 11, he reports that he hasn’t had a fever in 2 days and that most of his symptoms are completely gone. Which statement is correct?"
   ]
  },
  {
   "cell_type": "markdown",
   "metadata": {},
   "source": [
    "Even though he is feeling better and it has been ten days since his symptoms started, Mr. Reyes should stay in isolation since his fever ended 2 days ago"
   ]
  },
  {
   "cell_type": "markdown",
   "metadata": {},
   "source": [
    "17.Jordan has coronavirus and tells you their cough began on May 10. What date would be the earliest possible day that they could end their isolation?"
   ]
  },
  {
   "cell_type": "markdown",
   "metadata": {},
   "source": [
    "May 20"
   ]
  },
  {
   "cell_type": "markdown",
   "metadata": {},
   "source": [
    "18.Mr. Chowdury attended a gathering on June 1 where he was in close contact with a case of COVID-19. Assuming that Mr. Chowdury does not develop any symptoms, when can Mr. Chowdury safely end his quarantine?"
   ]
  },
  {
   "cell_type": "markdown",
   "metadata": {},
   "source": [
    "June 15"
   ]
  },
  {
   "cell_type": "markdown",
   "metadata": {},
   "source": [
    "19.Which of the following are venues or scenarios where SARS-CoV-2 can be transmitted very efficiently to many people? Select all that apply"
   ]
  },
  {
   "cell_type": "markdown",
   "metadata": {},
   "source": [
    "A shelter for the homeless<br>A college dormitory<br>A nursing home"
   ]
  },
  {
   "cell_type": "markdown",
   "metadata": {},
   "source": [
    "20.What is the first step of calling a case?"
   ]
  },
  {
   "cell_type": "markdown",
   "metadata": {},
   "source": [
    "Introduce yourself as calling from the health department"
   ]
  },
  {
   "cell_type": "markdown",
   "metadata": {},
   "source": [
    "21.When talking to a case and identifying their contacts, what suggestion might you make to help them remember activities that they did recently?"
   ]
  },
  {
   "cell_type": "markdown",
   "metadata": {},
   "source": [
    "The case could look at social media or their text messages to help them remember"
   ]
  },
  {
   "cell_type": "markdown",
   "metadata": {},
   "source": [
    "22.What question(s) might you ask to better understand the beginning and end of the infectious period for someone ill with COVID-19? Select all that apply"
   ]
  },
  {
   "cell_type": "markdown",
   "metadata": {},
   "source": [
    "What date did you first start to feel ill?"
   ]
  },
  {
   "cell_type": "markdown",
   "metadata": {},
   "source": [
    "23.In which of the following scenarios would a person be considered a contact of a case? Select all that apply"
   ]
  },
  {
   "cell_type": "markdown",
   "metadata": {},
   "source": [
    "Person who did not use gloves to pick up a used tissue of the case and then did not wash their hands after<br>People in the same household as the case"
   ]
  },
  {
   "cell_type": "markdown",
   "metadata": {},
   "source": [
    "24.Which of the following are resources that someone might need in order to successfully isolate or quarantine themselves? Select all that apply"
   ]
  },
  {
   "cell_type": "markdown",
   "metadata": {},
   "source": [
    "Laundry services<br>Medicine<br>A place to live separately from other people in their household<br>Food"
   ]
  },
  {
   "cell_type": "markdown",
   "metadata": {},
   "source": [
    "25.Which of the following statements is true about contact tracing? Select all that apply"
   ]
  },
  {
   "cell_type": "markdown",
   "metadata": {},
   "source": [
    "Contact tracing was used to control and end a large outbreak of Ebola in West Africa<br>Contact tracing is a standard public health tool used for many decades to control the spread of many different infectious diseases"
   ]
  },
  {
   "cell_type": "markdown",
   "metadata": {},
   "source": [
    "26.In your role as a contact tracer, you will ask cases about private information. Imagine that you are interviewing Mr. Lawrence, a 45-year-old computer programmer. Examples of relevant and private information you might ask him could include:\n",
    "\n",
    "Select all that apply"
   ]
  },
  {
   "cell_type": "markdown",
   "metadata": {},
   "source": [
    "Whether they visited other people recently<br>Who visited their house right before they were ill<br>Who the person spent time with while they were ill"
   ]
  },
  {
   "cell_type": "markdown",
   "metadata": {},
   "source": [
    "27.The difference between private and confidential information is that:"
   ]
  },
  {
   "cell_type": "markdown",
   "metadata": {},
   "source": [
    "Confidential information includes information about a person’s medical history, including a positive COVID-19 test"
   ]
  },
  {
   "cell_type": "markdown",
   "metadata": {},
   "source": [
    "28.If contact tracing serves as a public good and is based on the principles of justice, which of the following is true?"
   ]
  },
  {
   "cell_type": "markdown",
   "metadata": {},
   "source": [
    "You must attempt to identify and trace all contacts, regardless of where they live or who they are"
   ]
  },
  {
   "cell_type": "markdown",
   "metadata": {},
   "source": [
    "29.When you are talking to a contact, they disclose to you that they are an undocumented worker. In this scenario you should:"
   ]
  },
  {
   "cell_type": "markdown",
   "metadata": {},
   "source": [
    "Nothing special. Inform them that they had close contact of someone with COVID-19."
   ]
  },
  {
   "cell_type": "markdown",
   "metadata": {},
   "source": [
    "30.Some technologies used in case investigation and contact tracing include:\n",
    "\n",
    "Select all that apply"
   ]
  },
  {
   "cell_type": "markdown",
   "metadata": {},
   "source": [
    "Automated text messages that ask cases and contacts about their symptoms daily<br>Automatically sending cases or contacts links to social services to help them isolate and quarantine"
   ]
  },
  {
   "cell_type": "markdown",
   "metadata": {},
   "source": [
    "31.Why is building rapport with cases and contacts important for contact tracing?\n",
    "\n",
    "Select all that apply"
   ]
  },
  {
   "cell_type": "markdown",
   "metadata": {},
   "source": [
    "To help educate them about SARS-CoV-2 and COVID-19<br>To help collect complete, accurate information from them<br>To help increase the chances that they will effectively isolate and quarantine."
   ]
  },
  {
   "cell_type": "markdown",
   "metadata": {},
   "source": [
    "32.You are speaking to a case and explaining that they will likely need to isolate for several more days. They respond by saying, “No way! I can’t do that. I need to go to work” Which option would be the best response?"
   ]
  },
  {
   "cell_type": "markdown",
   "metadata": {},
   "source": [
    "“I hear you when you say you need to go to work. This is difficult for everyone. What other reasons will make it difficult for you to stay home for this long?”"
   ]
  },
  {
   "cell_type": "markdown",
   "metadata": {},
   "source": [
    "33.Is this an open, closed, probing or leading question?"
   ]
  },
  {
   "cell_type": "markdown",
   "metadata": {},
   "source": [
    "Closed"
   ]
  },
  {
   "cell_type": "markdown",
   "metadata": {},
   "source": [
    "34.Is this an open, closed, probing or leading question?\n",
    "\n",
    "“You said that you were feeling unwell today. What symptoms are you having?”\n",
    "\n",
    "Select all that apply"
   ]
  },
  {
   "cell_type": "markdown",
   "metadata": {},
   "source": [
    "Open"
   ]
  },
  {
   "cell_type": "markdown",
   "metadata": {},
   "source": [
    "35.Is this an open, closed, probing or leading question?"
   ]
  },
  {
   "cell_type": "markdown",
   "metadata": {},
   "source": [
    "Closed<br>Leading"
   ]
  },
  {
   "cell_type": "markdown",
   "metadata": {},
   "source": [
    "36.In the following exchange, which active listening tool is Jacob using: paraphrasing or reflecting?\n",
    "\n",
    "Contact: Geez, how could I be sick? I’ve been doing everything I can to avoid this. You’ve got to be kidding me!”\n",
    "\n",
    "Jacob: You’re angry that you spent time nearby someone with coronavirus and upset that this is happening."
   ]
  },
  {
   "cell_type": "markdown",
   "metadata": {},
   "source": [
    "Reflecting"
   ]
  },
  {
   "cell_type": "markdown",
   "metadata": {},
   "source": [
    "37.Is the following a need or an emotion?\n",
    "\n",
    "“I don’t have a safe place to live right now.”"
   ]
  },
  {
   "cell_type": "markdown",
   "metadata": {},
   "source": [
    "Need"
   ]
  },
  {
   "cell_type": "markdown",
   "metadata": {},
   "source": [
    "38.Which of the following statements might build rapport with a case or contact?\n",
    "\n",
    "Select all that apply"
   ]
  },
  {
   "cell_type": "markdown",
   "metadata": {},
   "source": [
    "“I hear you when you say”"
   ]
  },
  {
   "cell_type": "markdown",
   "metadata": {},
   "source": [
    "39.A case answers the phone and does not appear to speak English. They hand the phone to their teenage daughter. What should you do?"
   ]
  },
  {
   "cell_type": "markdown",
   "metadata": {},
   "source": [
    "Thank the daughter for her offer but let her know that you will need to use a translation service to talk to her dad"
   ]
  },
  {
   "cell_type": "markdown",
   "metadata": {},
   "source": [
    "40.Jacob is sick with COVID-19. He does not control who comes into his home because he lives with roommates. What next steps could a contact tracer take to help Jacob?"
   ]
  },
  {
   "cell_type": "markdown",
   "metadata": {},
   "source": [
    "Assist Jacob with connecting to resources that could find him another living situation while he is able to infect others"
   ]
  }
 ],
 "metadata": {
  "kernelspec": {
   "display_name": "Python 3",
   "language": "python",
   "name": "python3"
  },
  "language_info": {
   "codemirror_mode": {
    "name": "ipython",
    "version": 3
   },
   "file_extension": ".py",
   "mimetype": "text/x-python",
   "name": "python",
   "nbconvert_exporter": "python",
   "pygments_lexer": "ipython3",
   "version": "3.8.3"
  }
 },
 "nbformat": 4,
 "nbformat_minor": 2
}
