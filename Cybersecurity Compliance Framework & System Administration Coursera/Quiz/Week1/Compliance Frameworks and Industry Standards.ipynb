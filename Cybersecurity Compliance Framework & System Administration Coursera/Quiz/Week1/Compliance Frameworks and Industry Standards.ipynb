{
 "cells": [
  {
   "cell_type": "markdown",
   "metadata": {},
   "source": [
    "1.A security attack is defined as which of the following?"
   ]
  },
  {
   "cell_type": "markdown",
   "metadata": {},
   "source": [
    "An event that has been identified by correlation and analytics tools as a malicious activity"
   ]
  },
  {
   "cell_type": "markdown",
   "metadata": {},
   "source": [
    "2.Which order does a typical compliance process follow?"
   ]
  },
  {
   "cell_type": "markdown",
   "metadata": {},
   "source": [
    "Establish scope, readiness assessment, gap remediation, testing/auditing, management reporting"
   ]
  },
  {
   "cell_type": "markdown",
   "metadata": {},
   "source": [
    "3.Under GDPR who determines the purpose and means of processing of personal data?"
   ]
  },
  {
   "cell_type": "markdown",
   "metadata": {},
   "source": [
    "Controller"
   ]
  },
  {
   "cell_type": "markdown",
   "metadata": {},
   "source": [
    "4.Under the International Organization for Standardization (ISO) which standard focuses on Privacy?"
   ]
  },
  {
   "cell_type": "markdown",
   "metadata": {},
   "source": [
    "ISO 27018"
   ]
  },
  {
   "cell_type": "markdown",
   "metadata": {},
   "source": [
    "5.Which SOC report is closest to an ISO report?"
   ]
  },
  {
   "cell_type": "markdown",
   "metadata": {},
   "source": [
    "Type 1"
   ]
  },
  {
   "cell_type": "markdown",
   "metadata": {},
   "source": [
    "6.What is an auditor looking for when they test control the control for implementation over an entire offering with no gaps?"
   ]
  },
  {
   "cell_type": "markdown",
   "metadata": {},
   "source": [
    "Completeness"
   ]
  },
  {
   "cell_type": "markdown",
   "metadata": {},
   "source": [
    "7.The HIPAA Security Rule requires covered entities to maintain which three (3) reasonable safeguards for protecting e-PHI?"
   ]
  },
  {
   "cell_type": "markdown",
   "metadata": {},
   "source": [
    "administrative<br>physical<br>technical"
   ]
  },
  {
   "cell_type": "markdown",
   "metadata": {},
   "source": [
    "8.HIPAA Administrative safeguards include which two (2) of the following?"
   ]
  },
  {
   "cell_type": "markdown",
   "metadata": {},
   "source": [
    "Workforce training and management<br>Security Personnel"
   ]
  },
  {
   "cell_type": "markdown",
   "metadata": {},
   "source": [
    "9.Who is the governing entity for HIPAA?"
   ]
  },
  {
   "cell_type": "markdown",
   "metadata": {},
   "source": [
    "US Department of Health and Human Services Office of Civil Rights"
   ]
  },
  {
   "cell_type": "markdown",
   "metadata": {},
   "source": [
    "10.HIPAA Physical safeguards include which two (2) of the following?"
   ]
  },
  {
   "cell_type": "markdown",
   "metadata": {},
   "source": [
    "Facility Access and Control<br>Workstation and Device Security "
   ]
  },
  {
   "cell_type": "markdown",
   "metadata": {},
   "source": [
    "11.PCI uses which three (3) of the following Card Holder Data Environment categories to determine scope?"
   ]
  },
  {
   "cell_type": "markdown",
   "metadata": {},
   "source": [
    "People<br>Technology<br>Processes"
   ]
  },
  {
   "cell_type": "markdown",
   "metadata": {},
   "source": [
    "12.One PCI Requirement is using an approved scanning vendor to scan at what frequency?"
   ]
  },
  {
   "cell_type": "markdown",
   "metadata": {},
   "source": [
    "Quarterly"
   ]
  },
  {
   "cell_type": "markdown",
   "metadata": {},
   "source": [
    "13.In which CIS control category will you find Incident Response and Management?"
   ]
  },
  {
   "cell_type": "markdown",
   "metadata": {},
   "source": [
    "Organizational"
   ]
  }
 ],
 "metadata": {
  "kernelspec": {
   "display_name": "Python 3",
   "language": "python",
   "name": "python3"
  },
  "language_info": {
   "codemirror_mode": {
    "name": "ipython",
    "version": 3
   },
   "file_extension": ".py",
   "mimetype": "text/x-python",
   "name": "python",
   "nbconvert_exporter": "python",
   "pygments_lexer": "ipython3",
   "version": "3.8.3"
  }
 },
 "nbformat": 4,
 "nbformat_minor": 4
}
