{
 "cells": [
  {
   "cell_type": "markdown",
   "metadata": {},
   "source": [
    "We have provided some synthetic (fake, semi-randomly generated) twitter data in a csv file named project_twitter_data.csv which has the text of a tweet, the number of retweets of that tweet, and the number of replies to that tweet. We have also words that express positive sentiment and negative sentiment, in the files positive_words.txt and negative_words.txt.\n",
    "Your task is to build a sentiment classifier, which will detect how positive or negative each tweet is. You will create a csv file, which contains columns for the Number of Retweets, Number of Replies, Positive Score (which is how many happy words are in the tweet), Negative Score (which is how many angry words are in the tweet), and the Net Score for each tweet. At the end, you upload the csv file to Excel or Google Sheets, and produce a graph of the Net Score vs Number of Retweets.\n",
    "To start, define a function called strip_punctuation which takes one parameter, a string which represents a word, and removes characters considered punctuation from everywhere in the word. (Hint: remember the .replace() method for strings.)"
   ]
  },
  {
   "cell_type": "code",
   "execution_count": 1,
   "metadata": {},
   "outputs": [],
   "source": [
    "punctuation_chars = [\"'\", '\"', \",\", \".\", \"!\", \":\", \";\", '#', '@']"
   ]
  },
  {
   "cell_type": "code",
   "execution_count": 27,
   "metadata": {},
   "outputs": [],
   "source": [
    "# Answer:\n",
    "\n",
    "def strip_punctuation(string):\n",
    "    \n",
    "    for char in string:\n",
    "        if char in punctuation_chars:\n",
    "            string=string.replace(char,\"\")\n",
    "\n",
    "    return string  "
   ]
  },
  {
   "cell_type": "markdown",
   "metadata": {},
   "source": [
    "Next, copy in your strip_punctuation function and define a function called get_pos which takes one parameter, a string which represents a one or more sentences, and calculates how many words in the string are considered positive words. Use the list, positive_words to determine what words will count as positive. The function should return a positive integer - how many occurances there are of positive words in the text."
   ]
  },
  {
   "cell_type": "code",
   "execution_count": null,
   "metadata": {},
   "outputs": [],
   "source": [
    "# Answer: \n",
    "\n",
    "punctuation_chars = [\"'\", '\"', \",\", \".\", \"!\", \":\", \";\", '#', '@']\n",
    "# list of positive words to use\n",
    "positive_words = []\n",
    "with open(\"positive_words.txt\") as pos_f:\n",
    "    for lin in pos_f:\n",
    "        if lin[0] != ';' and lin[0] != '\\n':\n",
    "            positive_words.append(lin.strip())\n",
    "#------------------------Provided------------------------------------\n",
    "            \n",
    "def strip_punctuation(string):\n",
    "    \n",
    "    for char in string:\n",
    "        if char in punctuation_chars:\n",
    "            string=string.replace(char,\"\")\n",
    "\n",
    "    return string  \n",
    "#----------------------Answer from Above----------------------------\n",
    "\n",
    "def get_pos(sentence):\n",
    "    \n",
    "    count=0\n",
    "    \n",
    "    for string in sentence.split(\" \"):\n",
    "        if strip_punctuation(string) in positive_words:\n",
    "            count+=1\n",
    "    \n",
    "    return count\n",
    "#--------------------Real Answer to this Question --------------------"
   ]
  },
  {
   "cell_type": "markdown",
   "metadata": {},
   "source": [
    "Next, copy in your strip_punctuation function and define a function called get_neg which takes one parameter, a string which represents a one or more sentences, and calculates how many words in the string are considered negative words. Use the list, negative_words to determine what words will count as negative. The function should return a positive integer - how many occurances there are of negative words in the text."
   ]
  },
  {
   "cell_type": "code",
   "execution_count": null,
   "metadata": {},
   "outputs": [],
   "source": [
    "punctuation_chars = [\"'\", '\"', \",\", \".\", \"!\", \":\", \";\", '#', '@']\n",
    "\n",
    "negative_words = []\n",
    "with open(\"negative_words.txt\") as pos_f:\n",
    "    for lin in pos_f:\n",
    "        if lin[0] != ';' and lin[0] != '\\n':\n",
    "            negative_words.append(lin.strip())\n",
    "#------------------------Provided------------------------------------\n",
    "            \n",
    "def strip_punctuation(string):\n",
    "    \n",
    "    for char in string:\n",
    "        if char in punctuation_chars:\n",
    "            string=string.replace(char,\"\")\n",
    "\n",
    "    return string  \n",
    "#----------------------Answer from Part 1----------------------------\n",
    "\n",
    "def get_neg(sentence):\n",
    "    \n",
    "    count=0\n",
    "    \n",
    "    for string in sentence.split(\" \"):\n",
    "        if strip_punctuation(string) in negative_words:\n",
    "            count+=1\n",
    "    \n",
    "    return count\n",
    "#--------------------Similar to Answer in Part 2--------------------"
   ]
  },
  {
   "cell_type": "markdown",
   "metadata": {},
   "source": [
    "Finally, copy in your previous functions and write code that opens the file project_twitter_data.csv which has the fake generated twitter data (the text of a tweet, the number of retweets of that tweet, and the number of replies to that tweet). Your task is to build a sentiment classifier, which will detect how positive or negative each tweet is. Copy the code from the code windows above, and put that in the top of this code window. Now, you will write code to create a csv file called resulting_data.csv, which contains the Number of Retweets, Number of Replies, Positive Score (which is how many happy words are in the tweet), Negative Score (which is how many angry words are in the tweet), and the Net Score (how positive or negative the text is overall) for each tweet. The file should have those headers in that order. Remember that there is another component to this project. You will upload the csv file to Excel or Google Sheets and produce a graph of the Net Score vs Number of Retweets. Check Coursera for that portion of the assignment, if you’re accessing this textbook from Coursera."
   ]
  },
  {
   "cell_type": "code",
   "execution_count": null,
   "metadata": {},
   "outputs": [],
   "source": [
    "projectTwitterDataFile = open(\"project_twitter_data.csv\",\"r\")\n",
    "resultingDataFile = open(\"resulting_data.csv\",\"w\")\n",
    "\n",
    "punctuation_chars = [\"'\", '\"', \",\", \".\", \"!\", \":\", \";\", '#', '@']\n",
    "# lists of words to use\n",
    "positive_words = []\n",
    "with open(\"positive_words.txt\") as pos_f:\n",
    "    for lin in pos_f:\n",
    "        if lin[0] != ';' and lin[0] != '\\n':\n",
    "            positive_words.append(lin.strip())\n",
    "            \n",
    "def get_pos(strSentences):\n",
    "    strSentences = strip_punctuation(strSentences)\n",
    "    listStrSentences= strSentences.split()\n",
    "    \n",
    "    count=0\n",
    "    for word in listStrSentences:\n",
    "        for positiveWord in positive_words:\n",
    "            if word == positiveWord:\n",
    "                count+=1\n",
    "    return count\n",
    "\n",
    "negative_words = []\n",
    "with open(\"negative_words.txt\") as pos_f:\n",
    "    for lin in pos_f:\n",
    "        if lin[0] != ';' and lin[0] != '\\n':\n",
    "            negative_words.append(lin.strip())\n",
    "\n",
    "            \n",
    "def get_neg(strSentences):\n",
    "    strSentences = strip_punctuation(strSentences)\n",
    "    listStrSentences = strSentences.split()\n",
    "    \n",
    "    count=0\n",
    "    for word in listStrSentences:\n",
    "        for negativeWord in negative_words:\n",
    "            if word == negativeWord:\n",
    "                count+=1\n",
    "    return count\n",
    "\n",
    "    \n",
    "def strip_punctuation(strWord):\n",
    "    for charPunct in punctuation_chars:\n",
    "        strWord = strWord.replace(charPunct, \"\")\n",
    "    return strWord\n",
    "\n",
    "\n",
    "def writeInDataFile(resultingDataFile):\n",
    "    resultingDataFile.write(\"Number of Retweets, Number of Replies, Positive Score, Negative Score, Net Score\")\n",
    "    resultingDataFile.write(\"\\n\")\n",
    "\n",
    "    linesPTDF =  projectTwitterDataFile.readlines()\n",
    "    headerDontUsed= linesPTDF.pop(0)\n",
    "    for linesTD in linesPTDF:\n",
    "        listTD = linesTD.strip().split(',')\n",
    "        resultingDataFile.write(\"{}, {}, {}, {}, {}\".format(listTD[1], listTD[2], get_pos(listTD[0]), get_neg(listTD[0]), (get_pos(listTD[0])-get_neg(listTD[0]))))    \n",
    "        resultingDataFile.write(\"\\n\")\n",
    "\n",
    "        \n",
    "\n",
    "writeInDataFile(resultingDataFile)\n",
    "projectTwitterDataFile.close()\n",
    "resultingDataFile.close()"
   ]
  }
 ],
 "metadata": {
  "kernelspec": {
   "display_name": "Python 3",
   "language": "python",
   "name": "python3"
  },
  "language_info": {
   "codemirror_mode": {
    "name": "ipython",
    "version": 3
   },
   "file_extension": ".py",
   "mimetype": "text/x-python",
   "name": "python",
   "nbconvert_exporter": "python",
   "pygments_lexer": "ipython3",
   "version": "3.8.3"
  }
 },
 "nbformat": 4,
 "nbformat_minor": 2
}
