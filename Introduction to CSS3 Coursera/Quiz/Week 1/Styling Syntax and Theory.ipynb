{
 "cells": [
  {
   "cell_type": "markdown",
   "metadata": {},
   "source": [
    "1.Which of the following is not an option for specifying a color in CSS3?"
   ]
  },
  {
   "cell_type": "markdown",
   "metadata": {},
   "source": [
    "binary"
   ]
  },
  {
   "cell_type": "markdown",
   "metadata": {},
   "source": [
    "2.If your body tag uses the style attribute style=\"text-align:center\", you can overwrite that property by using the CSS3 rule."
   ]
  },
  {
   "cell_type": "code",
   "execution_count": null,
   "metadata": {},
   "outputs": [],
   "source": [
    "body{\n",
    "   text-align: left;\n",
    "}"
   ]
  },
  {
   "cell_type": "markdown",
   "metadata": {},
   "source": [
    "False"
   ]
  },
  {
   "cell_type": "markdown",
   "metadata": {},
   "source": [
    "3.What is wrong with the following code?"
   ]
  },
  {
   "cell_type": "code",
   "execution_count": null,
   "metadata": {},
   "outputs": [],
   "source": [
    "body{\n",
    "   color: #000000;\n",
    "   background-color:#FFFFFF\n",
    "   font-family: Times, Arial, Cursive;\n",
    "}"
   ]
  },
  {
   "cell_type": "markdown",
   "metadata": {},
   "source": [
    "There is a missing semicolon"
   ]
  },
  {
   "cell_type": "markdown",
   "metadata": {},
   "source": [
    "4.Assume the following rule is the only one that styles the body element:"
   ]
  },
  {
   "cell_type": "code",
   "execution_count": null,
   "metadata": {},
   "outputs": [],
   "source": [
    "body{\n",
    "   font-family: Cursive, Helvetica, Verdana;\n",
    "}"
   ]
  },
  {
   "cell_type": "markdown",
   "metadata": {},
   "source": [
    "What happens if the browser doesn't support any of these font families?"
   ]
  },
  {
   "cell_type": "markdown",
   "metadata": {},
   "source": [
    "The text will be displayed in the default browser font-family"
   ]
  },
  {
   "cell_type": "markdown",
   "metadata": {},
   "source": [
    "5.The browser defaults override rules specified in an external style sheets."
   ]
  },
  {
   "cell_type": "markdown",
   "metadata": {},
   "source": [
    "False"
   ]
  },
  {
   "cell_type": "code",
   "execution_count": null,
   "metadata": {},
   "outputs": [],
   "source": [
    "6.Using the code below, will the body of the page have the background-color defined in the file style.css or the background color define in the <style> tag?"
   ]
  },
  {
   "cell_type": "code",
   "execution_count": null,
   "metadata": {},
   "outputs": [],
   "source": [
    "<head>\n",
    "    <meta charset = \"UTF-8\">\n",
    "    <title>Test code</title>\n",
    "    <link rel \"stylesheet\" href = \"style.css\">\n",
    "    <style>\n",
    "        body{\n",
    "            background-color: #44CCDD;\n",
    "        }\n",
    "    </style>\n",
    "</head>"
   ]
  },
  {
   "cell_type": "code",
   "execution_count": null,
   "metadata": {},
   "outputs": [],
   "source": [
    "<style>"
   ]
  },
  {
   "cell_type": "markdown",
   "metadata": {},
   "source": [
    "7.Internal styling (rules specified in the <head> section) override rules specified with the style attribute in a tag."
   ]
  },
  {
   "cell_type": "markdown",
   "metadata": {},
   "source": [
    "False"
   ]
  },
  {
   "cell_type": "markdown",
   "metadata": {},
   "source": [
    "8.The default display value for paragraphs is:"
   ]
  },
  {
   "cell_type": "markdown",
   "metadata": {},
   "source": [
    "block"
   ]
  },
  {
   "cell_type": "markdown",
   "metadata": {},
   "source": [
    "9.The default display value for <span> is:"
   ]
  },
  {
   "cell_type": "markdown",
   "metadata": {},
   "source": [
    "inline"
   ]
  },
  {
   "cell_type": "markdown",
   "metadata": {},
   "source": [
    "10.A block element takes up the full width of it's parent, even if the content is smaller than the parent. So two block elements at the same will not be side-by-side."
   ]
  },
  {
   "cell_type": "markdown",
   "metadata": {},
   "source": [
    "True"
   ]
  },
  {
   "cell_type": "markdown",
   "metadata": {},
   "source": [
    "11.Inline elements take up the full width of the browser, even if the content is smaller than the browser size."
   ]
  },
  {
   "cell_type": "markdown",
   "metadata": {},
   "source": [
    "False"
   ]
  },
  {
   "cell_type": "markdown",
   "metadata": {},
   "source": [
    "12.Which CSS3 property is used to center text? (Provide on the property, not the value!)"
   ]
  },
  {
   "cell_type": "markdown",
   "metadata": {},
   "source": [
    "text-align"
   ]
  },
  {
   "cell_type": "markdown",
   "metadata": {},
   "source": [
    "13.Which of the following is the best way to convey that your text has special meaning?"
   ]
  },
  {
   "cell_type": "markdown",
   "metadata": {},
   "source": [
    "Using semantic tags in addition to color and/or font"
   ]
  }
 ],
 "metadata": {
  "kernelspec": {
   "display_name": "Python 3",
   "language": "python",
   "name": "python3"
  },
  "language_info": {
   "codemirror_mode": {
    "name": "ipython",
    "version": 3
   },
   "file_extension": ".py",
   "mimetype": "text/x-python",
   "name": "python",
   "nbconvert_exporter": "python",
   "pygments_lexer": "ipython3",
   "version": "3.8.3"
  }
 },
 "nbformat": 4,
 "nbformat_minor": 2
}
