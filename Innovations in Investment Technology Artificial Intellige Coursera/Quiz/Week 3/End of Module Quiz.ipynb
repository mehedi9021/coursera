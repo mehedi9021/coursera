{
 "cells": [
  {
   "cell_type": "markdown",
   "metadata": {},
   "source": [
    "1.In the benchmark model,<br>\n",
    "Rp,t − Rf,t = αp + βp(Rm,t − Rf,t) + εp,t<br>\n",
    "which of the following best describes the meaning of αp?"
   ]
  },
  {
   "cell_type": "markdown",
   "metadata": {},
   "source": [
    "The average return not explained by the benchmark"
   ]
  },
  {
   "cell_type": "markdown",
   "metadata": {},
   "source": [
    "2.Which of the following is NOT a reason that we assess active managers’ performance against a benchmark?"
   ]
  },
  {
   "cell_type": "markdown",
   "metadata": {},
   "source": [
    "Active managers invest in the benchmark"
   ]
  },
  {
   "cell_type": "markdown",
   "metadata": {},
   "source": [
    "3.In the benchmark model,"
   ]
  },
  {
   "cell_type": "markdown",
   "metadata": {},
   "source": [
    "αp"
   ]
  },
  {
   "cell_type": "markdown",
   "metadata": {},
   "source": [
    "4.Most active managers’ approach to selecting stocks is called:"
   ]
  },
  {
   "cell_type": "markdown",
   "metadata": {},
   "source": [
    "Fundamental analysis"
   ]
  },
  {
   "cell_type": "markdown",
   "metadata": {},
   "source": [
    "5.Which of the following statements about screening are true?"
   ]
  },
  {
   "cell_type": "markdown",
   "metadata": {},
   "source": [
    "Screening uses publicly available information about a firm to select stocks expected to perform well relative to other stocks"
   ]
  },
  {
   "cell_type": "markdown",
   "metadata": {},
   "source": [
    "6.Which of the following statements about issues in a screening approach is true?"
   ]
  },
  {
   "cell_type": "markdown",
   "metadata": {},
   "source": [
    "All of the above"
   ]
  },
  {
   "cell_type": "markdown",
   "metadata": {},
   "source": [
    "7.Which of the following is NOT a signal discussed in the videos?"
   ]
  },
  {
   "cell_type": "markdown",
   "metadata": {},
   "source": [
    "High accruals"
   ]
  },
  {
   "cell_type": "markdown",
   "metadata": {},
   "source": [
    "8.A pure smart beta momentum index will hold"
   ]
  },
  {
   "cell_type": "markdown",
   "metadata": {},
   "source": [
    "Stocks in an underlying index with strong past returns, but not stocks with poor past returns"
   ]
  },
  {
   "cell_type": "markdown",
   "metadata": {},
   "source": [
    "9.A smart beta momentum tilt index will hold:"
   ]
  },
  {
   "cell_type": "markdown",
   "metadata": {},
   "source": [
    "Stocks in an underlying index with strong past returns, but not stocks with poor past returns"
   ]
  }
 ],
 "metadata": {
  "kernelspec": {
   "display_name": "Python 3",
   "language": "python",
   "name": "python3"
  },
  "language_info": {
   "codemirror_mode": {
    "name": "ipython",
    "version": 3
   },
   "file_extension": ".py",
   "mimetype": "text/x-python",
   "name": "python",
   "nbconvert_exporter": "python",
   "pygments_lexer": "ipython3",
   "version": "3.8.3"
  }
 },
 "nbformat": 4,
 "nbformat_minor": 2
}
