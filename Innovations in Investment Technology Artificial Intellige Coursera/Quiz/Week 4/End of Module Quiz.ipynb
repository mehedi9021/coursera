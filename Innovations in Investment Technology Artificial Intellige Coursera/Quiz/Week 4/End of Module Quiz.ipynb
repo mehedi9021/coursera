{
 "cells": [
  {
   "cell_type": "markdown",
   "metadata": {},
   "source": [
    "1.You have a choice between investing with three asset managers with different expected returns.  You will invest $10,000 with one of them for 30 years."
   ]
  },
  {
   "cell_type": "markdown",
   "metadata": {},
   "source": [
    "-"
   ]
  },
  {
   "cell_type": "markdown",
   "metadata": {},
   "source": [
    "2.Situation: Suppose you are evaluating a new strategy from a quant trading analyst, who claims to have discovered a new high-frequency equity arbitrage opportunity uncovered using multi-tiered recursive neural networks (RNN). "
   ]
  },
  {
   "cell_type": "markdown",
   "metadata": {},
   "source": [
    "What is the in-sample performance?"
   ]
  },
  {
   "cell_type": "markdown",
   "metadata": {},
   "source": [
    "3.Situation: Suppose you are evaluating a new strategy from a quant trading analyst, who claims to have discovered a new high-frequency equity arbitrage opportunity uncovered using multi-tiered recursive neural networks (RNN). \n",
    "\n",
    "Now, suppose you found that the strategy is actually [investing in all stocks with tickers starting with the letter \"N\", \"E\", \"U\", \"R\", \"A\", \"L\"]. Yet, between 1993 and 2020, the average annualized return of this strategy is actually 8.5% higher than the market. What are your key takeaways from this scenario? Please select all that apply."
   ]
  },
  {
   "cell_type": "markdown",
   "metadata": {},
   "source": [
    "If you change the sample period by a little bit, the results might not hold"
   ]
  },
  {
   "cell_type": "markdown",
   "metadata": {},
   "source": [
    "4.Which of the following statements is NOT true about big data & machine learning/AI?"
   ]
  },
  {
   "cell_type": "markdown",
   "metadata": {},
   "source": [
    "In deep learning models, all model choices and parameters are directly estimated from the data rather than supplied by the user"
   ]
  },
  {
   "cell_type": "markdown",
   "metadata": {},
   "source": [
    "5.Which of the following factors is the most critical in determining the accuracy of supervised machine learning models?"
   ]
  },
  {
   "cell_type": "markdown",
   "metadata": {},
   "source": [
    "Quality of the training data"
   ]
  }
 ],
 "metadata": {
  "kernelspec": {
   "display_name": "Python 3",
   "language": "python",
   "name": "python3"
  },
  "language_info": {
   "codemirror_mode": {
    "name": "ipython",
    "version": 3
   },
   "file_extension": ".py",
   "mimetype": "text/x-python",
   "name": "python",
   "nbconvert_exporter": "python",
   "pygments_lexer": "ipython3",
   "version": "3.8.3"
  }
 },
 "nbformat": 4,
 "nbformat_minor": 2
}
