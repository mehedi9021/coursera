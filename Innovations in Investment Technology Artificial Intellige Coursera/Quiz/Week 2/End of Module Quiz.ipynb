{
 "cells": [
  {
   "cell_type": "markdown",
   "metadata": {},
   "source": [
    "1.You are 25 years old and just starting to invest.  A friend states that you should invest all of your money in equities and ignore other asset classes.  Do you agree with this advice?"
   ]
  },
  {
   "cell_type": "markdown",
   "metadata": {},
   "source": [
    "-"
   ]
  },
  {
   "cell_type": "markdown",
   "metadata": {},
   "source": [
    "2.In assessing your optimal portfolio position, an advisor uses a utility function given by\n",
    "\n",
    "U = E[R] - 0.5 * A * Var(R)\n",
    "\n",
    "where A represents your risk aversion.  This means that lower levels of A indicate more risk tolerance.  Who will invest more in equity than bonds as an asset class, an investor with A=1 or an investor with A=10?"
   ]
  },
  {
   "cell_type": "markdown",
   "metadata": {},
   "source": [
    "An investor with A=1"
   ]
  },
  {
   "cell_type": "markdown",
   "metadata": {},
   "source": [
    "3.Which of the following statements about robo-advisors are true?"
   ]
  },
  {
   "cell_type": "markdown",
   "metadata": {},
   "source": [
    "All of the above"
   ]
  },
  {
   "cell_type": "markdown",
   "metadata": {},
   "source": [
    "4.How are the weights of each stock in the S&P 500 index determined?"
   ]
  },
  {
   "cell_type": "markdown",
   "metadata": {},
   "source": [
    "Each stock is value-weighted, meaning that its weight is its market value, divided by the total market value of all 500 stocks in the index"
   ]
  },
  {
   "cell_type": "markdown",
   "metadata": {},
   "source": [
    "5.Why is it difficult to hold an index directly?"
   ]
  },
  {
   "cell_type": "markdown",
   "metadata": {},
   "source": [
    "-"
   ]
  },
  {
   "cell_type": "markdown",
   "metadata": {},
   "source": [
    "6.The creator of an ETF is called the __________"
   ]
  },
  {
   "cell_type": "markdown",
   "metadata": {},
   "source": [
    "Authorized Participant"
   ]
  },
  {
   "cell_type": "markdown",
   "metadata": {},
   "source": [
    "7.Stock A has a price of $5 and Stock B has a price of $10.  If there are 200 shares outstanding of Stock A and 100 shares outstanding of Stock B, what are the value weights of an index of the two stocks?"
   ]
  },
  {
   "cell_type": "markdown",
   "metadata": {},
   "source": [
    "Stock A:  50%, Stock B:  50%"
   ]
  },
  {
   "cell_type": "markdown",
   "metadata": {},
   "source": [
    "8.Stock A has a price of $5 and Stock B has a price of $10. An index has value weights in Stock A of 60% and in Stock B of 40%.  If an authorized participant has 60 shares of stock A and 20 shares of stock B, at what price will she sell a value-weighted index ETF of these stocks if she wants to sell 200 shares?"
   ]
  },
  {
   "cell_type": "markdown",
   "metadata": {},
   "source": [
    "$2.50"
   ]
  },
  {
   "cell_type": "markdown",
   "metadata": {},
   "source": [
    "9.The expected return on stocks is about 11%.  Which of the following statements about this claim is closest to being accurate?"
   ]
  },
  {
   "cell_type": "markdown",
   "metadata": {},
   "source": [
    "On average, stocks have returned 11% per year.  However, sometimes the expected return is higher, and sometimes the expected return is lower"
   ]
  },
  {
   "cell_type": "markdown",
   "metadata": {},
   "source": [
    "10.Which of the following measures is responsible for the diversification benefits of holding a portfolio rather than a single asset?"
   ]
  },
  {
   "cell_type": "markdown",
   "metadata": {},
   "source": [
    "Correlation"
   ]
  }
 ],
 "metadata": {
  "kernelspec": {
   "display_name": "Python 3",
   "language": "python",
   "name": "python3"
  },
  "language_info": {
   "codemirror_mode": {
    "name": "ipython",
    "version": 3
   },
   "file_extension": ".py",
   "mimetype": "text/x-python",
   "name": "python",
   "nbconvert_exporter": "python",
   "pygments_lexer": "ipython3",
   "version": "3.8.3"
  }
 },
 "nbformat": 4,
 "nbformat_minor": 2
}
